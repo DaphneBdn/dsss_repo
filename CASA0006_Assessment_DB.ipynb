{
 "cells": [
  {
   "cell_type": "markdown",
   "id": "9086c790-a752-419e-896b-d2a0d70fc26d",
   "metadata": {},
   "source": [
    "## About this document\n",
    "This document contains the analysis and report for the Assessment of CASA0006-Data Science for Spatial Systems"
   ]
  },
  {
   "cell_type": "markdown",
   "id": "2163adc3-8dd5-4772-bc9c-a4c5937b2f5c",
   "metadata": {},
   "source": [
    "Student ID: 21203086\n",
    "Word count: XXX"
   ]
  },
  {
   "cell_type": "markdown",
   "id": "4fd8c124-5858-43d2-b9cc-40fc76c2f70a",
   "metadata": {},
   "source": [
    "--------------------------------------------------------------------------------------------------------------------------------"
   ]
  },
  {
   "cell_type": "markdown",
   "id": "d03ccec6-2deb-4764-82a6-4a0a36a77f8a",
   "metadata": {},
   "source": [
    "# TITLE XXXXXX"
   ]
  },
  {
   "cell_type": "markdown",
   "id": "547ca654-e59e-4692-b856-80dea2b3e742",
   "metadata": {},
   "source": [
    "<a id=\"ID_intr\"></a>\n",
    "| [1.0 Introduction](#ID_intro) | [2.0 Literature review](#ID_lit) | [3.0 Research Question](#ID_RQ) | [4.0 Presentation of Data](#ID_data) | [5.0 Methodology](#ID_methods) | [6.0 Results](#ID_results) | [7.0 Discussion](#ID_disc) | [8.0 Conclusion](#ID_concl) | [Bibliography](#ID_biblio) | [Appendix](#ID_append) |"
   ]
  },
  {
   "cell_type": "markdown",
   "id": "fb0f494e-5eb0-45f8-b27d-c1f775a301ba",
   "metadata": {},
   "source": [
    "<a id=\"ID_intro\"></a>\n",
    "## 1.0 | Introduction "
   ]
  },
  {
   "cell_type": "markdown",
   "id": "7bfc41cb-a586-48b7-aa26-caa71adb7853",
   "metadata": {},
   "source": [
    "This paper studies .... \n",
    "quick summary\n",
    "text text\n",
    "\n",
    "According to the Understanding Inequalities project ''the housing market has a key role in \"sorting\" poorer households into areas with the worst pollution, schools, crime and employ-ment. ''(Housing | Understanding Inequalities, 2022). This study will therefore investigate if there is a relationship between a variety of indicators for environmental, health and socioeco-nomic features that compose a census tract and house prices in the same area. The case study chosen is California and the baseline assumption is that pollution, unemployment, and poor health statistics will be reflected in the overall house price trend. "
   ]
  },
  {
   "cell_type": "markdown",
   "id": "c537de00-a015-4ded-bc2b-406cc6cb25fc",
   "metadata": {},
   "source": [
    "<a id=\"ID_lit\"></a>\n",
    "## 2.0 | Literature Review"
   ]
  },
  {
   "cell_type": "markdown",
   "id": "95d729fc-d05a-43b1-b26f-c5464fbd07a0",
   "metadata": {},
   "source": [
    "Text text text\n"
   ]
  },
  {
   "cell_type": "markdown",
   "id": "b800f037-4e81-46ef-a218-467aa4ae82e7",
   "metadata": {},
   "source": [
    "<a id=\"ID_RQ\"></a>\n",
    "## 3.0 | Research Question"
   ]
  },
  {
   "cell_type": "markdown",
   "id": "3f8ae78a-f983-4c63-bdc2-a0cebe6b46e0",
   "metadata": {},
   "source": [
    "R.Q.: Can house prices be predicted from data on environmental, health, and socioeconomic information of a census tract?\n",
    "\n",
    "    RQ1 | text \n",
    "    RQ2 | text?"
   ]
  },
  {
   "cell_type": "markdown",
   "id": "1d1bbb7b-7c19-48a8-b7c9-aecd8680aeb7",
   "metadata": {},
   "source": [
    "<a id=\"ID_data\"></a>\n",
    "## 4.0 | Presentation of Data"
   ]
  },
  {
   "cell_type": "markdown",
   "id": "8fcabc53-7956-4282-b115-247afa7aea74",
   "metadata": {},
   "source": [
    "The data used for this analysis were obtained from the following sources:\n",
    "* [CalEnviroScreen 3.0 Results](https://data.ca.gov/dataset/calenviroscreen-3-0-results/resource/89b3f4e9-0bf8-4690-8c6f-715a717f3fae), downloaded 04 April 2021:\n",
    "\n",
    "   - Who\n",
    "   [FEDERAL HOUSING FINACE AGENCY](https://www.fhfa.gov/)\n",
    "   - Where from\n",
    "   - What\n",
    "   - Data \n",
    "   - Explanation/description\n",
    "\n",
    "* [House Price Index Census Tracts](https://www.fhfa.gov/DataTools/Downloads/Pages/House-Price-Index-Datasets.aspx), downloaded 04 April 2021:\n",
    "\n",
    "   - Who\n",
    "   - Where from\n",
    "   - What\n",
    "   - Data \n",
    "   - House price index definition\n",
    "\n",
    "According to the data dictionary provided on the website:\n",
    "\"The FHFA House Price Index (HPI) is a broad measure of the movement of single-family house prices.  The HPI is a weighted, repeat-sales index, meaning that it measures average price changes in repeat sales or refinancings on the same properties. This information is obtained by reviewing repeat mortgage transactions on single-family properties whose mortgages have been purchased or securitized by Fannie Mae or Freddie Mac since January 1975.\"\n",
    "\n",
    "\n",
    "\n",
    "For ease of access the data has been saved in this [GitHub repository](https://github.com/DaphneBdn/dsss_repo) "
   ]
  },
  {
   "cell_type": "markdown",
   "id": "a83fb95c-5df1-4c53-b08b-1dc5ed70eb00",
   "metadata": {},
   "source": [
    "<a id=\"ID_methods\"></a>\n",
    "## 5.0 | Methodology"
   ]
  },
  {
   "cell_type": "markdown",
   "id": "71904047-0728-4151-a7bf-25997326ad23",
   "metadata": {},
   "source": [
    "Outline of methodology....text text text"
   ]
  },
  {
   "cell_type": "markdown",
   "id": "ba636ece-fb67-4eec-9e02-7078e0559f10",
   "metadata": {},
   "source": [
    "5.1 Libraries\n",
    "\n",
    "Loading the necessary libraries"
   ]
  },
  {
   "cell_type": "code",
   "execution_count": 55,
   "id": "1067c74c-1a82-48a9-9f40-b7bfb419721d",
   "metadata": {},
   "outputs": [],
   "source": [
    "# data manipulation and processing\n",
    "#import os\n",
    "import math\n",
    "import numpy as np\n",
    "import pandas as pd\n",
    "\n",
    "# analysis\n",
    "import re #regular expressions\n",
    "\n",
    "# Packages for visualisation\n",
    "import matplotlib.cm as cm\n",
    "import matplotlib.pyplot as plt\n",
    "import seaborn as sns\n",
    "\n",
    "# reproducability settings\n",
    "random_state = 42 \n",
    "np.random.seed(random_state)\n"
   ]
  },
  {
   "cell_type": "markdown",
   "id": "c6d8c909-a99f-4559-8927-09b04a2ffea6",
   "metadata": {},
   "source": [
    "5.1 Data Loading "
   ]
  },
  {
   "cell_type": "code",
   "execution_count": 2,
   "id": "2cab63fe-0fa8-4b60-ab7c-728d95070277",
   "metadata": {},
   "outputs": [
    {
     "data": {
      "text/html": [
       "<div>\n",
       "<style scoped>\n",
       "    .dataframe tbody tr th:only-of-type {\n",
       "        vertical-align: middle;\n",
       "    }\n",
       "\n",
       "    .dataframe tbody tr th {\n",
       "        vertical-align: top;\n",
       "    }\n",
       "\n",
       "    .dataframe thead th {\n",
       "        text-align: right;\n",
       "    }\n",
       "</style>\n",
       "<table border=\"1\" class=\"dataframe\">\n",
       "  <thead>\n",
       "    <tr style=\"text-align: right;\">\n",
       "      <th></th>\n",
       "      <th>tract</th>\n",
       "      <th>state_abbr</th>\n",
       "      <th>year</th>\n",
       "      <th>annual_change</th>\n",
       "      <th>hpi</th>\n",
       "      <th>hpi1990</th>\n",
       "      <th>hpi2000</th>\n",
       "    </tr>\n",
       "  </thead>\n",
       "  <tbody>\n",
       "    <tr>\n",
       "      <th>0</th>\n",
       "      <td>1001020100</td>\n",
       "      <td>AL</td>\n",
       "      <td>1998</td>\n",
       "      <td>NaN</td>\n",
       "      <td>100.000000</td>\n",
       "      <td>NaN</td>\n",
       "      <td>100.82</td>\n",
       "    </tr>\n",
       "    <tr>\n",
       "      <th>1</th>\n",
       "      <td>1001020100</td>\n",
       "      <td>AL</td>\n",
       "      <td>1999</td>\n",
       "      <td>-5.60</td>\n",
       "      <td>94.400002</td>\n",
       "      <td>NaN</td>\n",
       "      <td>95.18</td>\n",
       "    </tr>\n",
       "    <tr>\n",
       "      <th>2</th>\n",
       "      <td>1001020100</td>\n",
       "      <td>AL</td>\n",
       "      <td>2000</td>\n",
       "      <td>5.06</td>\n",
       "      <td>99.180000</td>\n",
       "      <td>NaN</td>\n",
       "      <td>100.00</td>\n",
       "    </tr>\n",
       "    <tr>\n",
       "      <th>3</th>\n",
       "      <td>1001020100</td>\n",
       "      <td>AL</td>\n",
       "      <td>2001</td>\n",
       "      <td>7.08</td>\n",
       "      <td>106.210000</td>\n",
       "      <td>NaN</td>\n",
       "      <td>107.08</td>\n",
       "    </tr>\n",
       "    <tr>\n",
       "      <th>4</th>\n",
       "      <td>1001020100</td>\n",
       "      <td>AL</td>\n",
       "      <td>2002</td>\n",
       "      <td>7.11</td>\n",
       "      <td>113.760000</td>\n",
       "      <td>NaN</td>\n",
       "      <td>114.70</td>\n",
       "    </tr>\n",
       "  </tbody>\n",
       "</table>\n",
       "</div>"
      ],
      "text/plain": [
       "        tract state_abbr  year  annual_change         hpi  hpi1990  hpi2000\n",
       "0  1001020100         AL  1998            NaN  100.000000      NaN   100.82\n",
       "1  1001020100         AL  1999          -5.60   94.400002      NaN    95.18\n",
       "2  1001020100         AL  2000           5.06   99.180000      NaN   100.00\n",
       "3  1001020100         AL  2001           7.08  106.210000      NaN   107.08\n",
       "4  1001020100         AL  2002           7.11  113.760000      NaN   114.70"
      ]
     },
     "execution_count": 2,
     "metadata": {},
     "output_type": "execute_result"
    }
   ],
   "source": [
    "# Load in the House Price Index data \n",
    "#dfprice = pd.read_csv('https://github.com/DaphneBdn/dsss_repo/blob/main/data/raw/HPI_AT_BDL_tract.csv')\n",
    "dfprice = pd.read_csv('data/raw/HPI_AT_BDL_tract.csv')\n",
    "dfprice.head(5)"
   ]
  },
  {
   "cell_type": "code",
   "execution_count": 3,
   "id": "e5fd100d-ad64-43be-833c-47fedd238f9a",
   "metadata": {},
   "outputs": [
    {
     "data": {
      "text/html": [
       "<div>\n",
       "<style scoped>\n",
       "    .dataframe tbody tr th:only-of-type {\n",
       "        vertical-align: middle;\n",
       "    }\n",
       "\n",
       "    .dataframe tbody tr th {\n",
       "        vertical-align: top;\n",
       "    }\n",
       "\n",
       "    .dataframe thead th {\n",
       "        text-align: right;\n",
       "    }\n",
       "</style>\n",
       "<table border=\"1\" class=\"dataframe\">\n",
       "  <thead>\n",
       "    <tr style=\"text-align: right;\">\n",
       "      <th></th>\n",
       "      <th>tract</th>\n",
       "      <th>state_abbr</th>\n",
       "      <th>year</th>\n",
       "      <th>annual_change</th>\n",
       "      <th>hpi</th>\n",
       "      <th>hpi1990</th>\n",
       "      <th>hpi2000</th>\n",
       "    </tr>\n",
       "  </thead>\n",
       "  <tbody>\n",
       "    <tr>\n",
       "      <th>1048570</th>\n",
       "      <td>29007950100</td>\n",
       "      <td>MO</td>\n",
       "      <td>2003</td>\n",
       "      <td>NaN</td>\n",
       "      <td>100.00</td>\n",
       "      <td>NaN</td>\n",
       "      <td>NaN</td>\n",
       "    </tr>\n",
       "    <tr>\n",
       "      <th>1048571</th>\n",
       "      <td>29007950100</td>\n",
       "      <td>MO</td>\n",
       "      <td>2004</td>\n",
       "      <td>11.68</td>\n",
       "      <td>111.68</td>\n",
       "      <td>NaN</td>\n",
       "      <td>NaN</td>\n",
       "    </tr>\n",
       "    <tr>\n",
       "      <th>1048572</th>\n",
       "      <td>29007950100</td>\n",
       "      <td>MO</td>\n",
       "      <td>2005</td>\n",
       "      <td>-6.56</td>\n",
       "      <td>104.36</td>\n",
       "      <td>NaN</td>\n",
       "      <td>NaN</td>\n",
       "    </tr>\n",
       "    <tr>\n",
       "      <th>1048573</th>\n",
       "      <td>29007950100</td>\n",
       "      <td>MO</td>\n",
       "      <td>2006</td>\n",
       "      <td>7.93</td>\n",
       "      <td>112.63</td>\n",
       "      <td>NaN</td>\n",
       "      <td>NaN</td>\n",
       "    </tr>\n",
       "    <tr>\n",
       "      <th>1048574</th>\n",
       "      <td>29007950100</td>\n",
       "      <td>MO</td>\n",
       "      <td>2007</td>\n",
       "      <td>-9.61</td>\n",
       "      <td>101.81</td>\n",
       "      <td>NaN</td>\n",
       "      <td>NaN</td>\n",
       "    </tr>\n",
       "  </tbody>\n",
       "</table>\n",
       "</div>"
      ],
      "text/plain": [
       "               tract state_abbr  year  annual_change     hpi  hpi1990  hpi2000\n",
       "1048570  29007950100         MO  2003            NaN  100.00      NaN      NaN\n",
       "1048571  29007950100         MO  2004          11.68  111.68      NaN      NaN\n",
       "1048572  29007950100         MO  2005          -6.56  104.36      NaN      NaN\n",
       "1048573  29007950100         MO  2006           7.93  112.63      NaN      NaN\n",
       "1048574  29007950100         MO  2007          -9.61  101.81      NaN      NaN"
      ]
     },
     "execution_count": 3,
     "metadata": {},
     "output_type": "execute_result"
    }
   ],
   "source": [
    "dfprice.tail(5)"
   ]
  },
  {
   "cell_type": "code",
   "execution_count": 4,
   "id": "3d170c5e-d569-44f6-aaea-14a0ab602690",
   "metadata": {},
   "outputs": [
    {
     "data": {
      "text/plain": [
       "(1048575, 7)"
      ]
     },
     "execution_count": 4,
     "metadata": {},
     "output_type": "execute_result"
    }
   ],
   "source": [
    "#check the size of the dataframe\n",
    "dfprice.shape"
   ]
  },
  {
   "cell_type": "code",
   "execution_count": 5,
   "id": "520b66fb-87c9-4ee5-aa3c-792270ca9851",
   "metadata": {},
   "outputs": [
    {
     "name": "stdout",
     "output_type": "stream",
     "text": [
      "<class 'pandas.core.frame.DataFrame'>\n",
      "RangeIndex: 1048575 entries, 0 to 1048574\n",
      "Data columns (total 7 columns):\n",
      " #   Column         Non-Null Count    Dtype  \n",
      "---  ------         --------------    -----  \n",
      " 0   tract          1048575 non-null  int64  \n",
      " 1   state_abbr     1048575 non-null  object \n",
      " 2   year           1048575 non-null  int64  \n",
      " 3   annual_change  968146 non-null   float64\n",
      " 4   hpi            1017771 non-null  float64\n",
      " 5   hpi1990        542092 non-null   float64\n",
      " 6   hpi2000        900951 non-null   float64\n",
      "dtypes: float64(4), int64(2), object(1)\n",
      "memory usage: 56.0+ MB\n"
     ]
    }
   ],
   "source": [
    "# check the datatype of each column \n",
    "dfprice.info()"
   ]
  },
  {
   "cell_type": "markdown",
   "id": "170a293f-9755-4786-9462-c9e05fd609e5",
   "metadata": {},
   "source": [
    "After the first inspection of the data the key things to note are: \n",
    "* There are 1,048,575 entries in total\n",
    "* There are multiple NA values: discuss approach, which columns\n",
    "* years 1998-2021"
   ]
  },
  {
   "cell_type": "markdown",
   "id": "a195c9cf-ec98-45ce-b3b2-9b7b4bc70fed",
   "metadata": {},
   "source": [
    "#### subseting/filtering"
   ]
  },
  {
   "cell_type": "markdown",
   "id": "c49fbf49-ece9-412e-adfb-c204a654e8f2",
   "metadata": {},
   "source": [
    "* Extract census tracts of California only.\n",
    "* Keep hpi \n",
    "* Year: Ideally keep only 2018, so as to match with the Enviro Dataset.\n",
    "* If many NAs in 2018: perhaps combine the year before and after? "
   ]
  },
  {
   "cell_type": "code",
   "execution_count": 6,
   "id": "3bd2a51e-4ae2-4551-8291-1420d8b60f5b",
   "metadata": {},
   "outputs": [],
   "source": [
    "dfCAall = dfprice[dfprice['state_abbr']==\"CA\"]"
   ]
  },
  {
   "cell_type": "code",
   "execution_count": 7,
   "id": "86e3bfd4-ea56-4516-ae32-e9c865b1f6c1",
   "metadata": {},
   "outputs": [
    {
     "data": {
      "text/plain": [
       "(264546, 7)"
      ]
     },
     "execution_count": 7,
     "metadata": {},
     "output_type": "execute_result"
    }
   ],
   "source": [
    "dfCAall.shape"
   ]
  },
  {
   "cell_type": "code",
   "execution_count": 8,
   "id": "6621140a-adf7-46e8-97d0-1503691ac4b6",
   "metadata": {},
   "outputs": [],
   "source": [
    "columns = dfCAall.columns\n",
    "columns"
   ]
  },
  {
   "cell_type": "code",
   "execution_count": 8,
   "id": "75a3a387-686c-4bfb-83fc-f99eccf306ef",
   "metadata": {},
   "outputs": [],
   "source": [
    "todrop=['annual_change', 'hpi1990','hpi2000']"
   ]
  },
  {
   "cell_type": "code",
   "execution_count": 9,
   "id": "e46f8971-f27f-4631-8b27-5fdec1b8cb3e",
   "metadata": {},
   "outputs": [
    {
     "name": "stderr",
     "output_type": "stream",
     "text": [
      "/opt/conda/envs/sds2021/lib/python3.9/site-packages/pandas/core/frame.py:4901: SettingWithCopyWarning: \n",
      "A value is trying to be set on a copy of a slice from a DataFrame\n",
      "\n",
      "See the caveats in the documentation: https://pandas.pydata.org/pandas-docs/stable/user_guide/indexing.html#returning-a-view-versus-a-copy\n",
      "  return super().drop(\n"
     ]
    },
    {
     "data": {
      "text/html": [
       "<div>\n",
       "<style scoped>\n",
       "    .dataframe tbody tr th:only-of-type {\n",
       "        vertical-align: middle;\n",
       "    }\n",
       "\n",
       "    .dataframe tbody tr th {\n",
       "        vertical-align: top;\n",
       "    }\n",
       "\n",
       "    .dataframe thead th {\n",
       "        text-align: right;\n",
       "    }\n",
       "</style>\n",
       "<table border=\"1\" class=\"dataframe\">\n",
       "  <thead>\n",
       "    <tr style=\"text-align: right;\">\n",
       "      <th></th>\n",
       "      <th>tract</th>\n",
       "      <th>state_abbr</th>\n",
       "      <th>year</th>\n",
       "      <th>hpi</th>\n",
       "    </tr>\n",
       "  </thead>\n",
       "  <tbody>\n",
       "    <tr>\n",
       "      <th>77893</th>\n",
       "      <td>6001400100</td>\n",
       "      <td>CA</td>\n",
       "      <td>1986</td>\n",
       "      <td>100.00000</td>\n",
       "    </tr>\n",
       "    <tr>\n",
       "      <th>77894</th>\n",
       "      <td>6001400100</td>\n",
       "      <td>CA</td>\n",
       "      <td>1987</td>\n",
       "      <td>103.27000</td>\n",
       "    </tr>\n",
       "    <tr>\n",
       "      <th>77895</th>\n",
       "      <td>6001400100</td>\n",
       "      <td>CA</td>\n",
       "      <td>1988</td>\n",
       "      <td>129.86000</td>\n",
       "    </tr>\n",
       "    <tr>\n",
       "      <th>77896</th>\n",
       "      <td>6001400100</td>\n",
       "      <td>CA</td>\n",
       "      <td>1989</td>\n",
       "      <td>142.83000</td>\n",
       "    </tr>\n",
       "    <tr>\n",
       "      <th>77897</th>\n",
       "      <td>6001400100</td>\n",
       "      <td>CA</td>\n",
       "      <td>1990</td>\n",
       "      <td>150.85001</td>\n",
       "    </tr>\n",
       "    <tr>\n",
       "      <th>...</th>\n",
       "      <td>...</td>\n",
       "      <td>...</td>\n",
       "      <td>...</td>\n",
       "      <td>...</td>\n",
       "    </tr>\n",
       "    <tr>\n",
       "      <th>342434</th>\n",
       "      <td>6115041102</td>\n",
       "      <td>CA</td>\n",
       "      <td>2017</td>\n",
       "      <td>175.52000</td>\n",
       "    </tr>\n",
       "    <tr>\n",
       "      <th>342435</th>\n",
       "      <td>6115041102</td>\n",
       "      <td>CA</td>\n",
       "      <td>2018</td>\n",
       "      <td>199.45000</td>\n",
       "    </tr>\n",
       "    <tr>\n",
       "      <th>342436</th>\n",
       "      <td>6115041102</td>\n",
       "      <td>CA</td>\n",
       "      <td>2019</td>\n",
       "      <td>211.89999</td>\n",
       "    </tr>\n",
       "    <tr>\n",
       "      <th>342437</th>\n",
       "      <td>6115041102</td>\n",
       "      <td>CA</td>\n",
       "      <td>2020</td>\n",
       "      <td>224.97000</td>\n",
       "    </tr>\n",
       "    <tr>\n",
       "      <th>342438</th>\n",
       "      <td>6115041102</td>\n",
       "      <td>CA</td>\n",
       "      <td>2021</td>\n",
       "      <td>260.67999</td>\n",
       "    </tr>\n",
       "  </tbody>\n",
       "</table>\n",
       "<p>264546 rows × 4 columns</p>\n",
       "</div>"
      ],
      "text/plain": [
       "             tract state_abbr  year        hpi\n",
       "77893   6001400100         CA  1986  100.00000\n",
       "77894   6001400100         CA  1987  103.27000\n",
       "77895   6001400100         CA  1988  129.86000\n",
       "77896   6001400100         CA  1989  142.83000\n",
       "77897   6001400100         CA  1990  150.85001\n",
       "...            ...        ...   ...        ...\n",
       "342434  6115041102         CA  2017  175.52000\n",
       "342435  6115041102         CA  2018  199.45000\n",
       "342436  6115041102         CA  2019  211.89999\n",
       "342437  6115041102         CA  2020  224.97000\n",
       "342438  6115041102         CA  2021  260.67999\n",
       "\n",
       "[264546 rows x 4 columns]"
      ]
     },
     "execution_count": 9,
     "metadata": {},
     "output_type": "execute_result"
    }
   ],
   "source": [
    "dfCAall.drop(columns=todrop, inplace=True)\n",
    "dfCAall"
   ]
  },
  {
   "cell_type": "code",
   "execution_count": 10,
   "id": "3cee7814-85c3-4a9c-b2ff-d1a8e54e7d3a",
   "metadata": {},
   "outputs": [
    {
     "data": {
      "text/plain": [
       "7720"
      ]
     },
     "execution_count": 10,
     "metadata": {},
     "output_type": "execute_result"
    }
   ],
   "source": [
    "# check the number of tracts\n",
    "dfCAall['tract'].nunique()"
   ]
  },
  {
   "cell_type": "code",
   "execution_count": 11,
   "id": "58edecf4-f6ac-4185-aa6b-506d593aac60",
   "metadata": {},
   "outputs": [
    {
     "data": {
      "text/html": [
       "<div>\n",
       "<style scoped>\n",
       "    .dataframe tbody tr th:only-of-type {\n",
       "        vertical-align: middle;\n",
       "    }\n",
       "\n",
       "    .dataframe tbody tr th {\n",
       "        vertical-align: top;\n",
       "    }\n",
       "\n",
       "    .dataframe thead th {\n",
       "        text-align: right;\n",
       "    }\n",
       "</style>\n",
       "<table border=\"1\" class=\"dataframe\">\n",
       "  <thead>\n",
       "    <tr style=\"text-align: right;\">\n",
       "      <th></th>\n",
       "      <th>tract</th>\n",
       "      <th>state_abbr</th>\n",
       "      <th>year</th>\n",
       "      <th>hpi</th>\n",
       "    </tr>\n",
       "  </thead>\n",
       "  <tbody>\n",
       "    <tr>\n",
       "      <th>77925</th>\n",
       "      <td>6001400100</td>\n",
       "      <td>CA</td>\n",
       "      <td>2018</td>\n",
       "      <td>548.07001</td>\n",
       "    </tr>\n",
       "    <tr>\n",
       "      <th>77961</th>\n",
       "      <td>6001400200</td>\n",
       "      <td>CA</td>\n",
       "      <td>2018</td>\n",
       "      <td>647.09998</td>\n",
       "    </tr>\n",
       "    <tr>\n",
       "      <th>78004</th>\n",
       "      <td>6001400300</td>\n",
       "      <td>CA</td>\n",
       "      <td>2018</td>\n",
       "      <td>1491.56010</td>\n",
       "    </tr>\n",
       "    <tr>\n",
       "      <th>78047</th>\n",
       "      <td>6001400400</td>\n",
       "      <td>CA</td>\n",
       "      <td>2018</td>\n",
       "      <td>1559.68010</td>\n",
       "    </tr>\n",
       "    <tr>\n",
       "      <th>78083</th>\n",
       "      <td>6001400500</td>\n",
       "      <td>CA</td>\n",
       "      <td>2018</td>\n",
       "      <td>789.46997</td>\n",
       "    </tr>\n",
       "    <tr>\n",
       "      <th>...</th>\n",
       "      <td>...</td>\n",
       "      <td>...</td>\n",
       "      <td>...</td>\n",
       "      <td>...</td>\n",
       "    </tr>\n",
       "    <tr>\n",
       "      <th>342313</th>\n",
       "      <td>6115040901</td>\n",
       "      <td>CA</td>\n",
       "      <td>2018</td>\n",
       "      <td>196.80000</td>\n",
       "    </tr>\n",
       "    <tr>\n",
       "      <th>342345</th>\n",
       "      <td>6115041001</td>\n",
       "      <td>CA</td>\n",
       "      <td>2018</td>\n",
       "      <td>249.62000</td>\n",
       "    </tr>\n",
       "    <tr>\n",
       "      <th>342376</th>\n",
       "      <td>6115041002</td>\n",
       "      <td>CA</td>\n",
       "      <td>2018</td>\n",
       "      <td>250.35001</td>\n",
       "    </tr>\n",
       "    <tr>\n",
       "      <th>342406</th>\n",
       "      <td>6115041101</td>\n",
       "      <td>CA</td>\n",
       "      <td>2018</td>\n",
       "      <td>209.84000</td>\n",
       "    </tr>\n",
       "    <tr>\n",
       "      <th>342435</th>\n",
       "      <td>6115041102</td>\n",
       "      <td>CA</td>\n",
       "      <td>2018</td>\n",
       "      <td>199.45000</td>\n",
       "    </tr>\n",
       "  </tbody>\n",
       "</table>\n",
       "<p>7711 rows × 4 columns</p>\n",
       "</div>"
      ],
      "text/plain": [
       "             tract state_abbr  year         hpi\n",
       "77925   6001400100         CA  2018   548.07001\n",
       "77961   6001400200         CA  2018   647.09998\n",
       "78004   6001400300         CA  2018  1491.56010\n",
       "78047   6001400400         CA  2018  1559.68010\n",
       "78083   6001400500         CA  2018   789.46997\n",
       "...            ...        ...   ...         ...\n",
       "342313  6115040901         CA  2018   196.80000\n",
       "342345  6115041001         CA  2018   249.62000\n",
       "342376  6115041002         CA  2018   250.35001\n",
       "342406  6115041101         CA  2018   209.84000\n",
       "342435  6115041102         CA  2018   199.45000\n",
       "\n",
       "[7711 rows x 4 columns]"
      ]
     },
     "execution_count": 11,
     "metadata": {},
     "output_type": "execute_result"
    }
   ],
   "source": [
    "dfCA2018= dfCAall[dfCAall['year']==2018]\n",
    "dfCA2018"
   ]
  },
  {
   "cell_type": "code",
   "execution_count": null,
   "id": "be541807-9644-4544-bee0-2ee1065e3ced",
   "metadata": {},
   "outputs": [],
   "source": [
    "yearlist = [2018,2019,2020,2021]\n",
    "\n",
    "for i in yearlist: \n",
    "    dftemp = dfCAall[dfCAall['year']==i]\n",
    "    dftemp.isna().sum().sort_values(ascending=False)\n",
    "    "
   ]
  },
  {
   "cell_type": "code",
   "execution_count": 12,
   "id": "2f184d46-e648-41dc-a56b-e2fb510ec413",
   "metadata": {},
   "outputs": [
    {
     "data": {
      "text/plain": [
       "hpi           863\n",
       "tract           0\n",
       "state_abbr      0\n",
       "year            0\n",
       "dtype: int64"
      ]
     },
     "execution_count": 12,
     "metadata": {},
     "output_type": "execute_result"
    }
   ],
   "source": [
    "# change settings to display all rows\n",
    "#pd.set_option('display.max_rows', None)\n",
    "\n",
    "# investigate NA values by printing out the count of NA values per column \n",
    "dfCA2018.isna().sum().sort_values(ascending=False)\n",
    "\n",
    "# change settings back \n",
    "#pd.reset_option('all')"
   ]
  },
  {
   "cell_type": "code",
   "execution_count": 79,
   "id": "5036f640-ca7a-4654-9b21-79aba9ec9146",
   "metadata": {},
   "outputs": [
    {
     "data": {
      "text/plain": [
       "863"
      ]
     },
     "execution_count": 79,
     "metadata": {},
     "output_type": "execute_result"
    }
   ],
   "source": [
    "max(dfCA2018.isna().sum())"
   ]
  },
  {
   "cell_type": "code",
   "execution_count": 13,
   "id": "2eb7c9db-ab03-4bfc-bb1a-68ec528f6b19",
   "metadata": {},
   "outputs": [
    {
     "data": {
      "text/plain": [
       "hpi           570\n",
       "tract           0\n",
       "state_abbr      0\n",
       "year            0\n",
       "dtype: int64"
      ]
     },
     "execution_count": 13,
     "metadata": {},
     "output_type": "execute_result"
    }
   ],
   "source": [
    "dfCA2017= dfCAall[dfCAall['year']==2017]\n",
    "dfCA2017.isna().sum().sort_values(ascending=False)"
   ]
  },
  {
   "cell_type": "code",
   "execution_count": 42,
   "id": "db8868ef-e6ed-4980-b5c9-3fa7daf0d4c5",
   "metadata": {},
   "outputs": [
    {
     "data": {
      "text/plain": [
       "hpi           551\n",
       "tract           0\n",
       "state_abbr      0\n",
       "year            0\n",
       "dtype: int64"
      ]
     },
     "execution_count": 42,
     "metadata": {},
     "output_type": "execute_result"
    }
   ],
   "source": [
    "dfCA2019= dfCAall[dfCAall['year']==2019]\n",
    "dfCA2019.isna().sum().sort_values(ascending=False)"
   ]
  },
  {
   "cell_type": "code",
   "execution_count": 43,
   "id": "2b37422b-7c5c-4b98-92f6-428bc55b08ca",
   "metadata": {},
   "outputs": [
    {
     "data": {
      "text/plain": [
       "hpi           89\n",
       "tract          0\n",
       "state_abbr     0\n",
       "year           0\n",
       "dtype: int64"
      ]
     },
     "execution_count": 43,
     "metadata": {},
     "output_type": "execute_result"
    }
   ],
   "source": [
    "dfCA2020= dfCAall[dfCAall['year']==2020]\n",
    "dfCA2020.isna().sum().sort_values(ascending=False)"
   ]
  },
  {
   "cell_type": "code",
   "execution_count": 44,
   "id": "3d7374f0-fe8b-4f0d-9cb1-e268c739cb7c",
   "metadata": {},
   "outputs": [
    {
     "data": {
      "text/plain": [
       "hpi           149\n",
       "tract           0\n",
       "state_abbr      0\n",
       "year            0\n",
       "dtype: int64"
      ]
     },
     "execution_count": 44,
     "metadata": {},
     "output_type": "execute_result"
    }
   ],
   "source": [
    "dfCA2021= dfCAall[dfCAall['year']==2021]\n",
    "dfCA2021.isna().sum().sort_values(ascending=False)"
   ]
  },
  {
   "cell_type": "code",
   "execution_count": 45,
   "id": "1edf466b-e4a8-4293-bbba-beca8557833f",
   "metadata": {},
   "outputs": [
    {
     "data": {
      "text/html": [
       "<div>\n",
       "<style scoped>\n",
       "    .dataframe tbody tr th:only-of-type {\n",
       "        vertical-align: middle;\n",
       "    }\n",
       "\n",
       "    .dataframe tbody tr th {\n",
       "        vertical-align: top;\n",
       "    }\n",
       "\n",
       "    .dataframe thead th {\n",
       "        text-align: right;\n",
       "    }\n",
       "</style>\n",
       "<table border=\"1\" class=\"dataframe\">\n",
       "  <thead>\n",
       "    <tr style=\"text-align: right;\">\n",
       "      <th></th>\n",
       "      <th>tract</th>\n",
       "      <th>state_abbr</th>\n",
       "      <th>year</th>\n",
       "      <th>hpi</th>\n",
       "    </tr>\n",
       "  </thead>\n",
       "  <tbody>\n",
       "    <tr>\n",
       "      <th>82028</th>\n",
       "      <td>6001423602</td>\n",
       "      <td>CA</td>\n",
       "      <td>2020</td>\n",
       "      <td>NaN</td>\n",
       "    </tr>\n",
       "    <tr>\n",
       "      <th>87340</th>\n",
       "      <td>6001441927</td>\n",
       "      <td>CA</td>\n",
       "      <td>2020</td>\n",
       "      <td>NaN</td>\n",
       "    </tr>\n",
       "    <tr>\n",
       "      <th>99434</th>\n",
       "      <td>6013359104</td>\n",
       "      <td>CA</td>\n",
       "      <td>2020</td>\n",
       "      <td>NaN</td>\n",
       "    </tr>\n",
       "    <tr>\n",
       "      <th>112053</th>\n",
       "      <td>6029001105</td>\n",
       "      <td>CA</td>\n",
       "      <td>2020</td>\n",
       "      <td>NaN</td>\n",
       "    </tr>\n",
       "    <tr>\n",
       "      <th>112497</th>\n",
       "      <td>6029002806</td>\n",
       "      <td>CA</td>\n",
       "      <td>2020</td>\n",
       "      <td>NaN</td>\n",
       "    </tr>\n",
       "    <tr>\n",
       "      <th>...</th>\n",
       "      <td>...</td>\n",
       "      <td>...</td>\n",
       "      <td>...</td>\n",
       "      <td>...</td>\n",
       "    </tr>\n",
       "    <tr>\n",
       "      <th>310596</th>\n",
       "      <td>6085511502</td>\n",
       "      <td>CA</td>\n",
       "      <td>2020</td>\n",
       "      <td>NaN</td>\n",
       "    </tr>\n",
       "    <tr>\n",
       "      <th>310699</th>\n",
       "      <td>6085511704</td>\n",
       "      <td>CA</td>\n",
       "      <td>2020</td>\n",
       "      <td>NaN</td>\n",
       "    </tr>\n",
       "    <tr>\n",
       "      <th>310729</th>\n",
       "      <td>6085511705</td>\n",
       "      <td>CA</td>\n",
       "      <td>2020</td>\n",
       "      <td>NaN</td>\n",
       "    </tr>\n",
       "    <tr>\n",
       "      <th>318774</th>\n",
       "      <td>6095251802</td>\n",
       "      <td>CA</td>\n",
       "      <td>2020</td>\n",
       "      <td>NaN</td>\n",
       "    </tr>\n",
       "    <tr>\n",
       "      <th>327899</th>\n",
       "      <td>6099002304</td>\n",
       "      <td>CA</td>\n",
       "      <td>2020</td>\n",
       "      <td>NaN</td>\n",
       "    </tr>\n",
       "  </tbody>\n",
       "</table>\n",
       "<p>89 rows × 4 columns</p>\n",
       "</div>"
      ],
      "text/plain": [
       "             tract state_abbr  year  hpi\n",
       "82028   6001423602         CA  2020  NaN\n",
       "87340   6001441927         CA  2020  NaN\n",
       "99434   6013359104         CA  2020  NaN\n",
       "112053  6029001105         CA  2020  NaN\n",
       "112497  6029002806         CA  2020  NaN\n",
       "...            ...        ...   ...  ...\n",
       "310596  6085511502         CA  2020  NaN\n",
       "310699  6085511704         CA  2020  NaN\n",
       "310729  6085511705         CA  2020  NaN\n",
       "318774  6095251802         CA  2020  NaN\n",
       "327899  6099002304         CA  2020  NaN\n",
       "\n",
       "[89 rows x 4 columns]"
      ]
     },
     "execution_count": 45,
     "metadata": {},
     "output_type": "execute_result"
    }
   ],
   "source": [
    "dfCA2020[dfCA2020.hpi.isna()]"
   ]
  },
  {
   "cell_type": "code",
   "execution_count": 48,
   "id": "66331bf5-14fc-42e5-8aa9-007899267ccc",
   "metadata": {},
   "outputs": [
    {
     "data": {
      "text/html": [
       "<div>\n",
       "<style scoped>\n",
       "    .dataframe tbody tr th:only-of-type {\n",
       "        vertical-align: middle;\n",
       "    }\n",
       "\n",
       "    .dataframe tbody tr th {\n",
       "        vertical-align: top;\n",
       "    }\n",
       "\n",
       "    .dataframe thead th {\n",
       "        text-align: right;\n",
       "    }\n",
       "</style>\n",
       "<table border=\"1\" class=\"dataframe\">\n",
       "  <thead>\n",
       "    <tr style=\"text-align: right;\">\n",
       "      <th></th>\n",
       "      <th>tract</th>\n",
       "      <th>state_abbr</th>\n",
       "      <th>year</th>\n",
       "      <th>hpi</th>\n",
       "    </tr>\n",
       "  </thead>\n",
       "  <tbody>\n",
       "    <tr>\n",
       "      <th>310593</th>\n",
       "      <td>6085511502</td>\n",
       "      <td>CA</td>\n",
       "      <td>2017</td>\n",
       "      <td>NaN</td>\n",
       "    </tr>\n",
       "  </tbody>\n",
       "</table>\n",
       "</div>"
      ],
      "text/plain": [
       "             tract state_abbr  year  hpi\n",
       "310593  6085511502         CA  2017  NaN"
      ]
     },
     "execution_count": 48,
     "metadata": {},
     "output_type": "execute_result"
    }
   ],
   "source": [
    "# test if there is information in another year\n",
    "dfCA2017[dfCA2017['tract']==6085511502]"
   ]
  },
  {
   "cell_type": "code",
   "execution_count": 15,
   "id": "3d525f10-4e51-4986-ad24-040d25a14275",
   "metadata": {},
   "outputs": [
    {
     "data": {
      "text/plain": [
       "hpi           1984\n",
       "tract            0\n",
       "state_abbr       0\n",
       "year             0\n",
       "dtype: int64"
      ]
     },
     "execution_count": 15,
     "metadata": {},
     "output_type": "execute_result"
    }
   ],
   "source": [
    "dfCA3 = dfCAall[(dfCAall['year']==2017) | (dfCAall['year']==2018) |(dfCAall['year']==2019)]\n",
    "dfCA3.isna().sum().sort_values(ascending=False)"
   ]
  },
  {
   "cell_type": "markdown",
   "id": "f4dd22b4-ed77-43fe-b29f-91a58376a8fa",
   "metadata": {},
   "source": [
    "####  **envir data**"
   ]
  },
  {
   "cell_type": "code",
   "execution_count": 16,
   "id": "163c6e77-7e5c-4386-9a78-525baf627d55",
   "metadata": {},
   "outputs": [
    {
     "data": {
      "text/html": [
       "<div>\n",
       "<style scoped>\n",
       "    .dataframe tbody tr th:only-of-type {\n",
       "        vertical-align: middle;\n",
       "    }\n",
       "\n",
       "    .dataframe tbody tr th {\n",
       "        vertical-align: top;\n",
       "    }\n",
       "\n",
       "    .dataframe thead th {\n",
       "        text-align: right;\n",
       "    }\n",
       "</style>\n",
       "<table border=\"1\" class=\"dataframe\">\n",
       "  <thead>\n",
       "    <tr style=\"text-align: right;\">\n",
       "      <th></th>\n",
       "      <th>Census Tract</th>\n",
       "      <th>Total Population</th>\n",
       "      <th>California County</th>\n",
       "      <th>ZIP</th>\n",
       "      <th>Nearby City \\n(to help approximate location only)</th>\n",
       "      <th>Longitude</th>\n",
       "      <th>Latitude</th>\n",
       "      <th>CES 3.0 Score</th>\n",
       "      <th>CES 3.0 Percentile</th>\n",
       "      <th>CES 3.0 \\nPercentile Range</th>\n",
       "      <th>...</th>\n",
       "      <th>Linguistic Isolation Pctl</th>\n",
       "      <th>Poverty</th>\n",
       "      <th>Poverty Pctl</th>\n",
       "      <th>Unemployment</th>\n",
       "      <th>Unemployment Pctl</th>\n",
       "      <th>Housing Burden</th>\n",
       "      <th>Housing Burden Pctl</th>\n",
       "      <th>Pop. Char.</th>\n",
       "      <th>Pop. Char. Score</th>\n",
       "      <th>Pop. Char. Pctl</th>\n",
       "    </tr>\n",
       "  </thead>\n",
       "  <tbody>\n",
       "    <tr>\n",
       "      <th>0</th>\n",
       "      <td>6019001100</td>\n",
       "      <td>3174</td>\n",
       "      <td>Fresno</td>\n",
       "      <td>93706</td>\n",
       "      <td>Fresno</td>\n",
       "      <td>-119.781696</td>\n",
       "      <td>36.709695</td>\n",
       "      <td>94.09</td>\n",
       "      <td>100.00</td>\n",
       "      <td>95-100% (highest scores)</td>\n",
       "      <td>...</td>\n",
       "      <td>77.51</td>\n",
       "      <td>76.3</td>\n",
       "      <td>97.12</td>\n",
       "      <td>17.6</td>\n",
       "      <td>91.72</td>\n",
       "      <td>26.0</td>\n",
       "      <td>79.40</td>\n",
       "      <td>92.12</td>\n",
       "      <td>9.55</td>\n",
       "      <td>99.70</td>\n",
       "    </tr>\n",
       "    <tr>\n",
       "      <th>1</th>\n",
       "      <td>6071001600</td>\n",
       "      <td>6133</td>\n",
       "      <td>San Bernardino</td>\n",
       "      <td>91761</td>\n",
       "      <td>Ontario</td>\n",
       "      <td>-117.618013</td>\n",
       "      <td>34.057780</td>\n",
       "      <td>90.68</td>\n",
       "      <td>99.99</td>\n",
       "      <td>95-100% (highest scores)</td>\n",
       "      <td>...</td>\n",
       "      <td>96.25</td>\n",
       "      <td>72.5</td>\n",
       "      <td>94.63</td>\n",
       "      <td>12.3</td>\n",
       "      <td>71.82</td>\n",
       "      <td>34.1</td>\n",
       "      <td>93.75</td>\n",
       "      <td>87.44</td>\n",
       "      <td>9.07</td>\n",
       "      <td>98.11</td>\n",
       "    </tr>\n",
       "    <tr>\n",
       "      <th>2</th>\n",
       "      <td>6019000200</td>\n",
       "      <td>3167</td>\n",
       "      <td>Fresno</td>\n",
       "      <td>93706</td>\n",
       "      <td>Fresno</td>\n",
       "      <td>-119.805504</td>\n",
       "      <td>36.735491</td>\n",
       "      <td>85.97</td>\n",
       "      <td>99.97</td>\n",
       "      <td>95-100% (highest scores)</td>\n",
       "      <td>...</td>\n",
       "      <td>78.39</td>\n",
       "      <td>86.8</td>\n",
       "      <td>99.56</td>\n",
       "      <td>16.1</td>\n",
       "      <td>87.98</td>\n",
       "      <td>40.1</td>\n",
       "      <td>97.85</td>\n",
       "      <td>94.58</td>\n",
       "      <td>9.81</td>\n",
       "      <td>99.99</td>\n",
       "    </tr>\n",
       "    <tr>\n",
       "      <th>3</th>\n",
       "      <td>6077000801</td>\n",
       "      <td>6692</td>\n",
       "      <td>San Joaquin</td>\n",
       "      <td>95203</td>\n",
       "      <td>Stockton</td>\n",
       "      <td>-121.314524</td>\n",
       "      <td>37.940517</td>\n",
       "      <td>82.49</td>\n",
       "      <td>99.96</td>\n",
       "      <td>95-100% (highest scores)</td>\n",
       "      <td>...</td>\n",
       "      <td>75.14</td>\n",
       "      <td>61.3</td>\n",
       "      <td>85.57</td>\n",
       "      <td>19.6</td>\n",
       "      <td>94.97</td>\n",
       "      <td>21.1</td>\n",
       "      <td>63.54</td>\n",
       "      <td>86.70</td>\n",
       "      <td>8.99</td>\n",
       "      <td>97.72</td>\n",
       "    </tr>\n",
       "    <tr>\n",
       "      <th>4</th>\n",
       "      <td>6019001500</td>\n",
       "      <td>2206</td>\n",
       "      <td>Fresno</td>\n",
       "      <td>93725</td>\n",
       "      <td>Fresno</td>\n",
       "      <td>-119.717843</td>\n",
       "      <td>36.681600</td>\n",
       "      <td>82.03</td>\n",
       "      <td>99.95</td>\n",
       "      <td>95-100% (highest scores)</td>\n",
       "      <td>...</td>\n",
       "      <td>73.72</td>\n",
       "      <td>66.4</td>\n",
       "      <td>90.23</td>\n",
       "      <td>18.6</td>\n",
       "      <td>93.65</td>\n",
       "      <td>28.1</td>\n",
       "      <td>83.98</td>\n",
       "      <td>80.08</td>\n",
       "      <td>8.30</td>\n",
       "      <td>92.76</td>\n",
       "    </tr>\n",
       "  </tbody>\n",
       "</table>\n",
       "<p>5 rows × 57 columns</p>\n",
       "</div>"
      ],
      "text/plain": [
       "   Census Tract  Total Population California County    ZIP  \\\n",
       "0    6019001100              3174           Fresno   93706   \n",
       "1    6071001600              6133    San Bernardino  91761   \n",
       "2    6019000200              3167           Fresno   93706   \n",
       "3    6077000801              6692       San Joaquin  95203   \n",
       "4    6019001500              2206           Fresno   93725   \n",
       "\n",
       "  Nearby City \\n(to help approximate location only)   Longitude   Latitude  \\\n",
       "0                                            Fresno -119.781696  36.709695   \n",
       "1                                           Ontario -117.618013  34.057780   \n",
       "2                                            Fresno -119.805504  36.735491   \n",
       "3                                          Stockton -121.314524  37.940517   \n",
       "4                                            Fresno -119.717843  36.681600   \n",
       "\n",
       "   CES 3.0 Score   CES 3.0 Percentile CES 3.0 \\nPercentile Range  ...  \\\n",
       "0          94.09               100.00   95-100% (highest scores)  ...   \n",
       "1          90.68                99.99   95-100% (highest scores)  ...   \n",
       "2          85.97                99.97   95-100% (highest scores)  ...   \n",
       "3          82.49                99.96   95-100% (highest scores)  ...   \n",
       "4          82.03                99.95   95-100% (highest scores)  ...   \n",
       "\n",
       "  Linguistic Isolation Pctl  Poverty  Poverty Pctl  Unemployment  \\\n",
       "0                     77.51     76.3         97.12          17.6   \n",
       "1                     96.25     72.5         94.63          12.3   \n",
       "2                     78.39     86.8         99.56          16.1   \n",
       "3                     75.14     61.3         85.57          19.6   \n",
       "4                     73.72     66.4         90.23          18.6   \n",
       "\n",
       "   Unemployment Pctl  Housing Burden  Housing Burden Pctl  Pop. Char.   \\\n",
       "0              91.72            26.0                79.40        92.12   \n",
       "1              71.82            34.1                93.75        87.44   \n",
       "2              87.98            40.1                97.85        94.58   \n",
       "3              94.97            21.1                63.54        86.70   \n",
       "4              93.65            28.1                83.98        80.08   \n",
       "\n",
       "   Pop. Char. Score  Pop. Char. Pctl  \n",
       "0              9.55            99.70  \n",
       "1              9.07            98.11  \n",
       "2              9.81            99.99  \n",
       "3              8.99            97.72  \n",
       "4              8.30            92.76  \n",
       "\n",
       "[5 rows x 57 columns]"
      ]
     },
     "execution_count": 16,
     "metadata": {},
     "output_type": "execute_result"
    }
   ],
   "source": [
    "# Load in the Enviro data \n",
    "#dfenv = pd.read_csv('https://github.com/DaphneBdn/dsss_repo/blob/main/data/raw/calenviroscreen-3.0-results-june-2018-update.csv')\n",
    "dfenv = pd.read_csv('data/raw/calenviroscreen-3.0-results-june-2018-update.csv')\n",
    "dfenv.head(5)"
   ]
  },
  {
   "cell_type": "code",
   "execution_count": 17,
   "id": "839de626-0cfb-44c1-80df-a1b5320e472e",
   "metadata": {},
   "outputs": [
    {
     "data": {
      "text/plain": [
       "(8035, 57)"
      ]
     },
     "execution_count": 17,
     "metadata": {},
     "output_type": "execute_result"
    }
   ],
   "source": [
    "# check size of dataframe\n",
    "dfenv.shape"
   ]
  },
  {
   "cell_type": "code",
   "execution_count": 30,
   "id": "b7d9e709-a90b-47ea-9d77-e062898f414c",
   "metadata": {},
   "outputs": [
    {
     "name": "stdout",
     "output_type": "stream",
     "text": [
      "<class 'pandas.core.frame.DataFrame'>\n",
      "RangeIndex: 8035 entries, 0 to 8034\n",
      "Data columns (total 57 columns):\n",
      " #   Column                                            Non-Null Count  Dtype  \n",
      "---  ------                                            --------------  -----  \n",
      " 0   Census Tract                                      8035 non-null   int64  \n",
      " 1   Total Population                                  8035 non-null   int64  \n",
      " 2   California County                                 8035 non-null   object \n",
      " 3   ZIP                                               8035 non-null   int64  \n",
      " 4   Nearby City \n",
      "(to help approximate location only)  8035 non-null   object \n",
      " 5   Longitude                                         8035 non-null   float64\n",
      " 6   Latitude                                          8035 non-null   float64\n",
      " 7   CES 3.0 Score                                     7929 non-null   float64\n",
      " 8    CES 3.0 Percentile                               7929 non-null   float64\n",
      " 9   CES 3.0 \n",
      "Percentile Range                         7929 non-null   object \n",
      " 10  SB 535 Disadvantaged Community                    8035 non-null   object \n",
      " 11  Ozone                                             8035 non-null   float64\n",
      " 12  Ozone Pctl                                        8035 non-null   float64\n",
      " 13  PM2.5                                             8016 non-null   float64\n",
      " 14  PM2.5 Pctl                                        8016 non-null   float64\n",
      " 15  Diesel PM                                         8035 non-null   float64\n",
      " 16  Diesel PM Pctl                                    8035 non-null   float64\n",
      " 17  Drinking Water                                    8017 non-null   float64\n",
      " 18  Drinking Water Pctl                               8017 non-null   float64\n",
      " 19  Pesticides                                        8035 non-null   float64\n",
      " 20  Pesticides Pctl                                   8035 non-null   float64\n",
      " 21  Tox. Release                                      8035 non-null   float64\n",
      " 22  Tox. Release Pctl                                 8035 non-null   float64\n",
      " 23  Traffic                                           7979 non-null   float64\n",
      " 24  Traffic Pctl                                      7979 non-null   float64\n",
      " 25  Cleanup Sites                                     8035 non-null   float64\n",
      " 26  Cleanup Sites Pctl                                8035 non-null   float64\n",
      " 27  Groundwater Threats                               8035 non-null   float64\n",
      " 28  Groundwater Threats Pctl                          8035 non-null   float64\n",
      " 29  Haz. Waste                                        8035 non-null   float64\n",
      " 30  Haz. Waste Pctl                                   8035 non-null   float64\n",
      " 31  Imp. Water Bodies                                 8035 non-null   int64  \n",
      " 32  Imp. Water Bodies Pctl                            8035 non-null   float64\n",
      " 33  Solid Waste                                       8035 non-null   float64\n",
      " 34  Solid Waste Pctl                                  8035 non-null   float64\n",
      " 35  Pollution Burden                                  8035 non-null   float64\n",
      " 36  Pollution Burden Score                            8035 non-null   float64\n",
      " 37  Pollution Burden Pctl                             8035 non-null   float64\n",
      " 38  Asthma                                            8035 non-null   float64\n",
      " 39  Asthma Pctl                                       8035 non-null   float64\n",
      " 40  Low Birth Weight                                  7813 non-null   float64\n",
      " 41  Low Birth Weight Pctl                             7813 non-null   float64\n",
      " 42  Cardiovascular Disease                            8035 non-null   float64\n",
      " 43  Cardiovascular Disease Pctl                       8035 non-null   float64\n",
      " 44  Education                                         7939 non-null   float64\n",
      " 45  Education Pctl                                    7939 non-null   float64\n",
      " 46  Linguistic Isolation                              7793 non-null   float64\n",
      " 47  Linguistic Isolation Pctl                         7793 non-null   float64\n",
      " 48  Poverty                                           7956 non-null   float64\n",
      " 49  Poverty Pctl                                      7956 non-null   float64\n",
      " 50  Unemployment                                      7880 non-null   float64\n",
      " 51  Unemployment Pctl                                 7880 non-null   float64\n",
      " 52  Housing Burden                                    7878 non-null   float64\n",
      " 53  Housing Burden Pctl                               7878 non-null   float64\n",
      " 54  Pop. Char.                                        7929 non-null   float64\n",
      " 55  Pop. Char. Score                                  7929 non-null   float64\n",
      " 56  Pop. Char. Pctl                                   7929 non-null   float64\n",
      "dtypes: float64(49), int64(4), object(4)\n",
      "memory usage: 3.5+ MB\n"
     ]
    }
   ],
   "source": [
    "dfenv.info()"
   ]
  },
  {
   "cell_type": "code",
   "execution_count": 18,
   "id": "583f15be-fc51-4415-81a0-c0570ea65c18",
   "metadata": {},
   "outputs": [
    {
     "data": {
      "text/plain": [
       "Linguistic Isolation                                 242\n",
       "Linguistic Isolation Pctl                            242\n",
       "Low Birth Weight                                     222\n",
       "Low Birth Weight Pctl                                222\n",
       "Housing Burden Pctl                                  157\n",
       "Housing Burden                                       157\n",
       "Unemployment Pctl                                    155\n",
       "Unemployment                                         155\n",
       "CES 3.0 \\nPercentile Range                           106\n",
       "Pop. Char. Pctl                                      106\n",
       " CES 3.0 Percentile                                  106\n",
       "CES 3.0 Score                                        106\n",
       "Pop. Char. Score                                     106\n",
       "Pop. Char.                                           106\n",
       "Education                                             96\n",
       "Education Pctl                                        96\n",
       "Poverty Pctl                                          79\n",
       "Poverty                                               79\n",
       "Traffic                                               56\n",
       "Traffic Pctl                                          56\n",
       "PM2.5 Pctl                                            19\n",
       "PM2.5                                                 19\n",
       "Drinking Water                                        18\n",
       "Drinking Water Pctl                                   18\n",
       "Pollution Burden                                       0\n",
       "Asthma                                                 0\n",
       "Pollution Burden Score                                 0\n",
       "Pollution Burden Pctl                                  0\n",
       "Cardiovascular Disease Pctl                            0\n",
       "Asthma Pctl                                            0\n",
       "Cardiovascular Disease                                 0\n",
       "Solid Waste                                            0\n",
       "Solid Waste Pctl                                       0\n",
       "Census Tract                                           0\n",
       "Imp. Water Bodies Pctl                                 0\n",
       "Diesel PM Pctl                                         0\n",
       "California County                                      0\n",
       "ZIP                                                    0\n",
       "Nearby City \\n(to help approximate location only)      0\n",
       "Longitude                                              0\n",
       "Latitude                                               0\n",
       "SB 535 Disadvantaged Community                         0\n",
       "Ozone                                                  0\n",
       "Ozone Pctl                                             0\n",
       "Diesel PM                                              0\n",
       "Pesticides                                             0\n",
       "Imp. Water Bodies                                      0\n",
       "Pesticides Pctl                                        0\n",
       "Tox. Release                                           0\n",
       "Tox. Release Pctl                                      0\n",
       "Cleanup Sites                                          0\n",
       "Cleanup Sites Pctl                                     0\n",
       "Groundwater Threats                                    0\n",
       "Total Population                                       0\n",
       "Haz. Waste                                             0\n",
       "Haz. Waste Pctl                                        0\n",
       "Groundwater Threats Pctl                               0\n",
       "dtype: int64"
      ]
     },
     "execution_count": 18,
     "metadata": {},
     "output_type": "execute_result"
    }
   ],
   "source": [
    "dfenv.isna().sum().sort_values(ascending=False)"
   ]
  },
  {
   "cell_type": "code",
   "execution_count": 19,
   "id": "295d9510-e583-4321-a764-6c15e304ae67",
   "metadata": {},
   "outputs": [
    {
     "data": {
      "text/plain": [
       "8035"
      ]
     },
     "execution_count": 19,
     "metadata": {},
     "output_type": "execute_result"
    }
   ],
   "source": [
    "# check the number of tracts in the combined df\n",
    "dfenv['Census Tract'].nunique()"
   ]
  },
  {
   "cell_type": "markdown",
   "id": "3734cd4a-41d3-4d46-acf5-57051bc4ce28",
   "metadata": {},
   "source": [
    "NOTE \n",
    "According to [United Staes Census Bureau](https://www.census.gov/geographies/reference-files/2010/geo/state-local-geo-guides-2010/california.html), California has **8,057** census tracts\n",
    "\n",
    "The Enviro dataset lists 8035\n",
    "The HPI lists 7720 for all years, 7711 for 2018"
   ]
  },
  {
   "cell_type": "code",
   "execution_count": 20,
   "id": "8640fedf-cc0c-4194-8214-5c6cae5559b4",
   "metadata": {},
   "outputs": [
    {
     "name": "stdout",
     "output_type": "stream",
     "text": [
      "Index(['Census Tract', 'Total Population', 'California County', 'ZIP',\n",
      "       'Nearby City \\n(to help approximate location only)', 'Longitude',\n",
      "       'Latitude', 'CES 3.0 Score', ' CES 3.0 Percentile',\n",
      "       'CES 3.0 \\nPercentile Range', 'SB 535 Disadvantaged Community', 'Ozone',\n",
      "       'Ozone Pctl', 'PM2.5', 'PM2.5 Pctl', 'Diesel PM', 'Diesel PM Pctl',\n",
      "       'Drinking Water', 'Drinking Water Pctl', 'Pesticides',\n",
      "       'Pesticides Pctl', 'Tox. Release', 'Tox. Release Pctl', 'Traffic',\n",
      "       'Traffic Pctl', 'Cleanup Sites', 'Cleanup Sites Pctl',\n",
      "       'Groundwater Threats', 'Groundwater Threats Pctl', 'Haz. Waste',\n",
      "       'Haz. Waste Pctl', 'Imp. Water Bodies', 'Imp. Water Bodies Pctl',\n",
      "       'Solid Waste', 'Solid Waste Pctl', 'Pollution Burden',\n",
      "       'Pollution Burden Score', 'Pollution Burden Pctl', 'Asthma',\n",
      "       'Asthma Pctl', 'Low Birth Weight', 'Low Birth Weight Pctl',\n",
      "       'Cardiovascular Disease', 'Cardiovascular Disease Pctl', 'Education',\n",
      "       'Education Pctl', 'Linguistic Isolation', 'Linguistic Isolation Pctl',\n",
      "       'Poverty', 'Poverty Pctl', 'Unemployment', 'Unemployment Pctl',\n",
      "       'Housing Burden', 'Housing Burden Pctl', 'Pop. Char. ',\n",
      "       'Pop. Char. Score', 'Pop. Char. Pctl'],\n",
      "      dtype='object')\n",
      "\n",
      "The Enviro 3.0 dataset has 57 columns\n"
     ]
    }
   ],
   "source": [
    "# extract the column names\n",
    "cols=dfenv.columns\n",
    "print(cols)\n",
    "print()\n",
    "print(f\"The Enviro 3.0 dataset has {len(cols)} columns\")"
   ]
  },
  {
   "cell_type": "markdown",
   "id": "99d6d36f-9dac-4f68-a4ee-642533cba81e",
   "metadata": {},
   "source": [
    "### newer version"
   ]
  },
  {
   "cell_type": "code",
   "execution_count": 50,
   "id": "c9931a4d-a383-4d6f-9870-7fbb2d1964c8",
   "metadata": {},
   "outputs": [
    {
     "data": {
      "text/html": [
       "<div>\n",
       "<style scoped>\n",
       "    .dataframe tbody tr th:only-of-type {\n",
       "        vertical-align: middle;\n",
       "    }\n",
       "\n",
       "    .dataframe tbody tr th {\n",
       "        vertical-align: top;\n",
       "    }\n",
       "\n",
       "    .dataframe thead th {\n",
       "        text-align: right;\n",
       "    }\n",
       "</style>\n",
       "<table border=\"1\" class=\"dataframe\">\n",
       "  <thead>\n",
       "    <tr style=\"text-align: right;\">\n",
       "      <th></th>\n",
       "      <th>Census Tract</th>\n",
       "      <th>Total Population</th>\n",
       "      <th>California County</th>\n",
       "      <th>ZIP</th>\n",
       "      <th>Approximate Location</th>\n",
       "      <th>Longitude</th>\n",
       "      <th>Latitude</th>\n",
       "      <th>CES 4.0 Score</th>\n",
       "      <th>CES 4.0 Percentile</th>\n",
       "      <th>CES 4.0 Percentile Range</th>\n",
       "      <th>...</th>\n",
       "      <th>Linguistic Isolation Pctl</th>\n",
       "      <th>Poverty</th>\n",
       "      <th>Poverty Pctl</th>\n",
       "      <th>Unemployment</th>\n",
       "      <th>Unemployment Pctl</th>\n",
       "      <th>Housing Burden</th>\n",
       "      <th>Housing Burden Pctl</th>\n",
       "      <th>Pop. Char.</th>\n",
       "      <th>Pop. Char. Score</th>\n",
       "      <th>Pop. Char. Pctl</th>\n",
       "    </tr>\n",
       "  </thead>\n",
       "  <tbody>\n",
       "    <tr>\n",
       "      <th>0</th>\n",
       "      <td>6019001100</td>\n",
       "      <td>2780</td>\n",
       "      <td>Fresno</td>\n",
       "      <td>93706</td>\n",
       "      <td>Fresno</td>\n",
       "      <td>-119.781696</td>\n",
       "      <td>36.709695</td>\n",
       "      <td>93.183570</td>\n",
       "      <td>100.000000</td>\n",
       "      <td>95-100% (highest scores)</td>\n",
       "      <td>...</td>\n",
       "      <td>79.374746</td>\n",
       "      <td>76.0</td>\n",
       "      <td>98.919598</td>\n",
       "      <td>12.8</td>\n",
       "      <td>93.831338</td>\n",
       "      <td>30.3</td>\n",
       "      <td>91.039290</td>\n",
       "      <td>93.155109</td>\n",
       "      <td>9.663213</td>\n",
       "      <td>99.722642</td>\n",
       "    </tr>\n",
       "    <tr>\n",
       "      <th>1</th>\n",
       "      <td>6077000700</td>\n",
       "      <td>4680</td>\n",
       "      <td>San Joaquin</td>\n",
       "      <td>95206</td>\n",
       "      <td>Stockton</td>\n",
       "      <td>-121.287873</td>\n",
       "      <td>37.943173</td>\n",
       "      <td>86.653790</td>\n",
       "      <td>99.987393</td>\n",
       "      <td>95-100% (highest scores)</td>\n",
       "      <td>...</td>\n",
       "      <td>95.533902</td>\n",
       "      <td>73.2</td>\n",
       "      <td>98.391960</td>\n",
       "      <td>19.8</td>\n",
       "      <td>99.206143</td>\n",
       "      <td>31.2</td>\n",
       "      <td>92.281369</td>\n",
       "      <td>93.165408</td>\n",
       "      <td>9.664281</td>\n",
       "      <td>99.735250</td>\n",
       "    </tr>\n",
       "    <tr>\n",
       "      <th>2</th>\n",
       "      <td>6037204920</td>\n",
       "      <td>2751</td>\n",
       "      <td>Los Angeles</td>\n",
       "      <td>90023</td>\n",
       "      <td>Los Angeles</td>\n",
       "      <td>-118.197497</td>\n",
       "      <td>34.017500</td>\n",
       "      <td>82.393909</td>\n",
       "      <td>99.974786</td>\n",
       "      <td>95-100% (highest scores)</td>\n",
       "      <td>...</td>\n",
       "      <td>81.553661</td>\n",
       "      <td>62.6</td>\n",
       "      <td>93.391960</td>\n",
       "      <td>6.4</td>\n",
       "      <td>61.530453</td>\n",
       "      <td>20.3</td>\n",
       "      <td>63.967047</td>\n",
       "      <td>83.751814</td>\n",
       "      <td>8.687785</td>\n",
       "      <td>95.789208</td>\n",
       "    </tr>\n",
       "    <tr>\n",
       "      <th>3</th>\n",
       "      <td>6019000700</td>\n",
       "      <td>3664</td>\n",
       "      <td>Fresno</td>\n",
       "      <td>93706</td>\n",
       "      <td>Fresno</td>\n",
       "      <td>-119.827707</td>\n",
       "      <td>36.734535</td>\n",
       "      <td>81.327940</td>\n",
       "      <td>99.962179</td>\n",
       "      <td>95-100% (highest scores)</td>\n",
       "      <td>...</td>\n",
       "      <td>78.711598</td>\n",
       "      <td>65.7</td>\n",
       "      <td>95.351759</td>\n",
       "      <td>15.7</td>\n",
       "      <td>97.345133</td>\n",
       "      <td>35.4</td>\n",
       "      <td>96.413181</td>\n",
       "      <td>94.641227</td>\n",
       "      <td>9.817371</td>\n",
       "      <td>99.886536</td>\n",
       "    </tr>\n",
       "    <tr>\n",
       "      <th>4</th>\n",
       "      <td>6019000200</td>\n",
       "      <td>2689</td>\n",
       "      <td>Fresno</td>\n",
       "      <td>93706</td>\n",
       "      <td>Fresno</td>\n",
       "      <td>-119.805504</td>\n",
       "      <td>36.735491</td>\n",
       "      <td>80.745476</td>\n",
       "      <td>99.949571</td>\n",
       "      <td>95-100% (highest scores)</td>\n",
       "      <td>...</td>\n",
       "      <td>86.561104</td>\n",
       "      <td>72.7</td>\n",
       "      <td>98.304020</td>\n",
       "      <td>13.7</td>\n",
       "      <td>95.288912</td>\n",
       "      <td>32.7</td>\n",
       "      <td>94.157161</td>\n",
       "      <td>95.398873</td>\n",
       "      <td>9.895964</td>\n",
       "      <td>99.949571</td>\n",
       "    </tr>\n",
       "  </tbody>\n",
       "</table>\n",
       "<p>5 rows × 58 columns</p>\n",
       "</div>"
      ],
      "text/plain": [
       "   Census Tract  Total Population California County    ZIP  \\\n",
       "0    6019001100              2780           Fresno   93706   \n",
       "1    6077000700              4680       San Joaquin  95206   \n",
       "2    6037204920              2751       Los Angeles  90023   \n",
       "3    6019000700              3664           Fresno   93706   \n",
       "4    6019000200              2689           Fresno   93706   \n",
       "\n",
       "  Approximate Location   Longitude   Latitude  CES 4.0 Score  \\\n",
       "0               Fresno -119.781696  36.709695      93.183570   \n",
       "1             Stockton -121.287873  37.943173      86.653790   \n",
       "2          Los Angeles -118.197497  34.017500      82.393909   \n",
       "3               Fresno -119.827707  36.734535      81.327940   \n",
       "4               Fresno -119.805504  36.735491      80.745476   \n",
       "\n",
       "    CES 4.0 Percentile  CES 4.0 Percentile Range  ...  \\\n",
       "0           100.000000  95-100% (highest scores)  ...   \n",
       "1            99.987393  95-100% (highest scores)  ...   \n",
       "2            99.974786  95-100% (highest scores)  ...   \n",
       "3            99.962179  95-100% (highest scores)  ...   \n",
       "4            99.949571  95-100% (highest scores)  ...   \n",
       "\n",
       "   Linguistic Isolation Pctl  Poverty  Poverty Pctl  Unemployment  \\\n",
       "0                  79.374746     76.0     98.919598          12.8   \n",
       "1                  95.533902     73.2     98.391960          19.8   \n",
       "2                  81.553661     62.6     93.391960           6.4   \n",
       "3                  78.711598     65.7     95.351759          15.7   \n",
       "4                  86.561104     72.7     98.304020          13.7   \n",
       "\n",
       "   Unemployment Pctl  Housing Burden  Housing Burden Pctl  Pop. Char.   \\\n",
       "0          93.831338            30.3            91.039290    93.155109   \n",
       "1          99.206143            31.2            92.281369    93.165408   \n",
       "2          61.530453            20.3            63.967047    83.751814   \n",
       "3          97.345133            35.4            96.413181    94.641227   \n",
       "4          95.288912            32.7            94.157161    95.398873   \n",
       "\n",
       "   Pop. Char. Score  Pop. Char. Pctl  \n",
       "0          9.663213        99.722642  \n",
       "1          9.664281        99.735250  \n",
       "2          8.687785        95.789208  \n",
       "3          9.817371        99.886536  \n",
       "4          9.895964        99.949571  \n",
       "\n",
       "[5 rows x 58 columns]"
      ]
     },
     "execution_count": 50,
     "metadata": {},
     "output_type": "execute_result"
    }
   ],
   "source": [
    "#env21= pd.read_excel('https://github.com/DaphneBdn/dsss_repo/blob/main/data/raw/calenviroscreen40resultsdatadictionary_F_2021.xlsx', sheet_name=\"CES4.0FINAL_results\")\n",
    "\n",
    "env21= pd.read_excel('data/raw/calenviroscreen40resultsdatadictionary_F_2021.xlsx', sheet_name=\"CES4.0FINAL_results\")\n",
    "env21.head()"
   ]
  },
  {
   "cell_type": "code",
   "execution_count": 51,
   "id": "2d3693f8-d93e-41c1-aab9-921ee1bed14a",
   "metadata": {},
   "outputs": [
    {
     "data": {
      "text/plain": [
       "(8035, 58)"
      ]
     },
     "execution_count": 51,
     "metadata": {},
     "output_type": "execute_result"
    }
   ],
   "source": [
    "env21.shape"
   ]
  },
  {
   "cell_type": "code",
   "execution_count": 53,
   "id": "5a4bdfcd-a0a3-47f4-84c5-e3ebeac7ed5b",
   "metadata": {},
   "outputs": [
    {
     "name": "stdout",
     "output_type": "stream",
     "text": [
      "<class 'pandas.core.frame.DataFrame'>\n",
      "RangeIndex: 8035 entries, 0 to 8034\n",
      "Data columns (total 58 columns):\n",
      " #   Column                       Non-Null Count  Dtype  \n",
      "---  ------                       --------------  -----  \n",
      " 0   Census Tract                 8035 non-null   int64  \n",
      " 1   Total Population             8035 non-null   int64  \n",
      " 2   California County            8035 non-null   object \n",
      " 3   ZIP                          8035 non-null   int64  \n",
      " 4   Approximate Location         8035 non-null   object \n",
      " 5   Longitude                    8035 non-null   float64\n",
      " 6   Latitude                     8035 non-null   float64\n",
      " 7   CES 4.0 Score                7932 non-null   float64\n",
      " 8    CES 4.0 Percentile          7932 non-null   float64\n",
      " 9   CES 4.0 Percentile Range     7932 non-null   object \n",
      " 10  Ozone                        8035 non-null   float64\n",
      " 11  Ozone Pctl                   8035 non-null   float64\n",
      " 12  PM2.5                        8035 non-null   float64\n",
      " 13  PM2.5 Pctl                   8035 non-null   float64\n",
      " 14  Diesel PM                    8035 non-null   float64\n",
      " 15  Diesel PM Pctl               8035 non-null   float64\n",
      " 16  Drinking Water               8007 non-null   float64\n",
      " 17  Drinking Water Pctl          8007 non-null   float64\n",
      " 18  Lead                         7939 non-null   float64\n",
      " 19  Lead Pctl                    7939 non-null   float64\n",
      " 20  Pesticides                   8035 non-null   float64\n",
      " 21  Pesticides Pctl              8035 non-null   float64\n",
      " 22  Tox. Release                 8035 non-null   float64\n",
      " 23  Tox. Release Pctl            8035 non-null   float64\n",
      " 24  Traffic                      8000 non-null   float64\n",
      " 25  Traffic Pctl                 8000 non-null   float64\n",
      " 26  Cleanup Sites                8035 non-null   float64\n",
      " 27  Cleanup Sites Pctl           8035 non-null   float64\n",
      " 28  Groundwater Threats          8035 non-null   float64\n",
      " 29  Groundwater Threats Pctl     8035 non-null   float64\n",
      " 30  Haz. Waste                   8035 non-null   float64\n",
      " 31  Haz. Waste Pctl              8035 non-null   float64\n",
      " 32  Imp. Water Bodies            8035 non-null   int64  \n",
      " 33  Imp. Water Bodies Pctl       8035 non-null   float64\n",
      " 34  Solid Waste                  8035 non-null   float64\n",
      " 35  Solid Waste Pctl             8035 non-null   float64\n",
      " 36  Pollution Burden             8035 non-null   float64\n",
      " 37  Pollution Burden Score       8035 non-null   float64\n",
      " 38  Pollution Burden Pctl        8035 non-null   float64\n",
      " 39  Asthma                       8024 non-null   float64\n",
      " 40  Asthma Pctl                  8024 non-null   float64\n",
      " 41  Low Birth Weight             7808 non-null   float64\n",
      " 42  Low Birth Weight Pctl        7808 non-null   float64\n",
      " 43  Cardiovascular Disease       8024 non-null   float64\n",
      " 44  Cardiovascular Disease Pctl  8024 non-null   float64\n",
      " 45  Education                    7932 non-null   float64\n",
      " 46  Education Pctl               7932 non-null   float64\n",
      " 47  Linguistic Isolation         7715 non-null   float64\n",
      " 48  Linguistic Isolation Pctl    7715 non-null   float64\n",
      " 49  Poverty                      7960 non-null   float64\n",
      " 50  Poverty Pctl                 7960 non-null   float64\n",
      " 51  Unemployment                 7700 non-null   float64\n",
      " 52  Unemployment Pctl            7700 non-null   float64\n",
      " 53  Housing Burden               7890 non-null   float64\n",
      " 54  Housing Burden Pctl          7890 non-null   float64\n",
      " 55  Pop. Char.                   7932 non-null   float64\n",
      " 56  Pop. Char. Score             7932 non-null   float64\n",
      " 57  Pop. Char. Pctl              7932 non-null   float64\n",
      "dtypes: float64(51), int64(4), object(3)\n",
      "memory usage: 3.6+ MB\n"
     ]
    }
   ],
   "source": [
    "env21.info()"
   ]
  },
  {
   "cell_type": "code",
   "execution_count": 54,
   "id": "a40d9c2c-b5bd-4fd0-ac27-89be2932b8a6",
   "metadata": {},
   "outputs": [
    {
     "name": "stdout",
     "output_type": "stream",
     "text": [
      "Index(['Census Tract', 'Total Population', 'California County', 'ZIP',\n",
      "       'Approximate Location', 'Longitude', 'Latitude', 'CES 4.0 Score',\n",
      "       ' CES 4.0 Percentile', 'CES 4.0 Percentile Range', 'Ozone',\n",
      "       'Ozone Pctl', 'PM2.5', 'PM2.5 Pctl', 'Diesel PM', 'Diesel PM Pctl',\n",
      "       'Drinking Water', 'Drinking Water Pctl', 'Lead', 'Lead Pctl',\n",
      "       'Pesticides', 'Pesticides Pctl', 'Tox. Release', 'Tox. Release Pctl',\n",
      "       'Traffic', 'Traffic Pctl', 'Cleanup Sites', 'Cleanup Sites Pctl',\n",
      "       'Groundwater Threats', 'Groundwater Threats Pctl', 'Haz. Waste',\n",
      "       'Haz. Waste Pctl', 'Imp. Water Bodies', 'Imp. Water Bodies Pctl',\n",
      "       'Solid Waste', 'Solid Waste Pctl', 'Pollution Burden',\n",
      "       'Pollution Burden Score', 'Pollution Burden Pctl', 'Asthma',\n",
      "       'Asthma Pctl', 'Low Birth Weight', 'Low Birth Weight Pctl',\n",
      "       'Cardiovascular Disease', 'Cardiovascular Disease Pctl', 'Education',\n",
      "       'Education Pctl', 'Linguistic Isolation', 'Linguistic Isolation Pctl',\n",
      "       'Poverty', 'Poverty Pctl', 'Unemployment', 'Unemployment Pctl',\n",
      "       'Housing Burden', 'Housing Burden Pctl', 'Pop. Char. ',\n",
      "       'Pop. Char. Score', 'Pop. Char. Pctl'],\n",
      "      dtype='object')\n",
      "\n",
      "The Enviro 3.0 dataset has 58 columns\n"
     ]
    }
   ],
   "source": [
    "# extract the column names\n",
    "cols=env21.columns\n",
    "print(cols)\n",
    "print()\n",
    "print(f\"The Enviro 3.0 dataset has {len(cols)} columns\")"
   ]
  },
  {
   "cell_type": "code",
   "execution_count": 56,
   "id": "f0b4f916-8ad5-4339-9fbe-84b19ce57d9b",
   "metadata": {},
   "outputs": [
    {
     "data": {
      "text/plain": [
       "Unemployment Pctl              335\n",
       "Unemployment                   335\n",
       "Linguistic Isolation           320\n",
       "Linguistic Isolation Pctl      320\n",
       "Low Birth Weight Pctl          227\n",
       "Low Birth Weight               227\n",
       "Housing Burden Pctl            145\n",
       "Housing Burden                 145\n",
       "Pop. Char. Pctl                103\n",
       "Education Pctl                 103\n",
       "Education                      103\n",
       "CES 4.0 Percentile Range       103\n",
       " CES 4.0 Percentile            103\n",
       "CES 4.0 Score                  103\n",
       "Pop. Char.                     103\n",
       "Pop. Char. Score               103\n",
       "Lead                            96\n",
       "Lead Pctl                       96\n",
       "Poverty Pctl                    75\n",
       "Poverty                         75\n",
       "Traffic Pctl                    35\n",
       "Traffic                         35\n",
       "Drinking Water                  28\n",
       "Drinking Water Pctl             28\n",
       "Cardiovascular Disease          11\n",
       "Cardiovascular Disease Pctl     11\n",
       "Asthma Pctl                     11\n",
       "Asthma                          11\n",
       "Solid Waste                      0\n",
       "Pollution Burden Pctl            0\n",
       "Pollution Burden Score           0\n",
       "Pollution Burden                 0\n",
       "Solid Waste Pctl                 0\n",
       "Census Tract                     0\n",
       "Imp. Water Bodies Pctl           0\n",
       "Imp. Water Bodies                0\n",
       "California County                0\n",
       "ZIP                              0\n",
       "Approximate Location             0\n",
       "Longitude                        0\n",
       "Latitude                         0\n",
       "Ozone                            0\n",
       "Ozone Pctl                       0\n",
       "PM2.5                            0\n",
       "PM2.5 Pctl                       0\n",
       "Diesel PM                        0\n",
       "Diesel PM Pctl                   0\n",
       "Pesticides                       0\n",
       "Pesticides Pctl                  0\n",
       "Tox. Release                     0\n",
       "Tox. Release Pctl                0\n",
       "Cleanup Sites                    0\n",
       "Cleanup Sites Pctl               0\n",
       "Groundwater Threats              0\n",
       "Total Population                 0\n",
       "Haz. Waste                       0\n",
       "Haz. Waste Pctl                  0\n",
       "Groundwater Threats Pctl         0\n",
       "dtype: int64"
      ]
     },
     "execution_count": 56,
     "metadata": {},
     "output_type": "execute_result"
    }
   ],
   "source": [
    "env21.isna().sum().sort_values(ascending=False)"
   ]
  },
  {
   "cell_type": "code",
   "execution_count": 63,
   "id": "53f45ac1-ca8e-4ceb-9484-e4aa01e068aa",
   "metadata": {},
   "outputs": [],
   "source": [
    "df = env21[env21.columns.drop(list(env21.filter(regex='Pctl')))]"
   ]
  },
  {
   "cell_type": "code",
   "execution_count": 65,
   "id": "69bee8ef-c92b-42c3-b457-19c47d9afddd",
   "metadata": {},
   "outputs": [
    {
     "data": {
      "text/html": [
       "<div>\n",
       "<style scoped>\n",
       "    .dataframe tbody tr th:only-of-type {\n",
       "        vertical-align: middle;\n",
       "    }\n",
       "\n",
       "    .dataframe tbody tr th {\n",
       "        vertical-align: top;\n",
       "    }\n",
       "\n",
       "    .dataframe thead th {\n",
       "        text-align: right;\n",
       "    }\n",
       "</style>\n",
       "<table border=\"1\" class=\"dataframe\">\n",
       "  <thead>\n",
       "    <tr style=\"text-align: right;\">\n",
       "      <th></th>\n",
       "      <th>Census Tract</th>\n",
       "      <th>Total Population</th>\n",
       "      <th>California County</th>\n",
       "      <th>ZIP</th>\n",
       "      <th>Approximate Location</th>\n",
       "      <th>Longitude</th>\n",
       "      <th>Latitude</th>\n",
       "      <th>Ozone</th>\n",
       "      <th>PM2.5</th>\n",
       "      <th>Diesel PM</th>\n",
       "      <th>...</th>\n",
       "      <th>Asthma</th>\n",
       "      <th>Low Birth Weight</th>\n",
       "      <th>Cardiovascular Disease</th>\n",
       "      <th>Education</th>\n",
       "      <th>Linguistic Isolation</th>\n",
       "      <th>Poverty</th>\n",
       "      <th>Unemployment</th>\n",
       "      <th>Housing Burden</th>\n",
       "      <th>Pop. Char.</th>\n",
       "      <th>Pop. Char. Score</th>\n",
       "    </tr>\n",
       "  </thead>\n",
       "  <tbody>\n",
       "    <tr>\n",
       "      <th>0</th>\n",
       "      <td>6019001100</td>\n",
       "      <td>2780</td>\n",
       "      <td>Fresno</td>\n",
       "      <td>93706</td>\n",
       "      <td>Fresno</td>\n",
       "      <td>-119.781696</td>\n",
       "      <td>36.709695</td>\n",
       "      <td>0.060311</td>\n",
       "      <td>13.906348</td>\n",
       "      <td>1.122712</td>\n",
       "      <td>...</td>\n",
       "      <td>129.54</td>\n",
       "      <td>7.80</td>\n",
       "      <td>21.47</td>\n",
       "      <td>44.5</td>\n",
       "      <td>16.0</td>\n",
       "      <td>76.0</td>\n",
       "      <td>12.8</td>\n",
       "      <td>30.3</td>\n",
       "      <td>93.155109</td>\n",
       "      <td>9.663213</td>\n",
       "    </tr>\n",
       "    <tr>\n",
       "      <th>1</th>\n",
       "      <td>6077000700</td>\n",
       "      <td>4680</td>\n",
       "      <td>San Joaquin</td>\n",
       "      <td>95206</td>\n",
       "      <td>Stockton</td>\n",
       "      <td>-121.287873</td>\n",
       "      <td>37.943173</td>\n",
       "      <td>0.045884</td>\n",
       "      <td>11.884085</td>\n",
       "      <td>0.538105</td>\n",
       "      <td>...</td>\n",
       "      <td>105.88</td>\n",
       "      <td>6.88</td>\n",
       "      <td>20.26</td>\n",
       "      <td>46.4</td>\n",
       "      <td>29.7</td>\n",
       "      <td>73.2</td>\n",
       "      <td>19.8</td>\n",
       "      <td>31.2</td>\n",
       "      <td>93.165408</td>\n",
       "      <td>9.664281</td>\n",
       "    </tr>\n",
       "    <tr>\n",
       "      <th>2</th>\n",
       "      <td>6037204920</td>\n",
       "      <td>2751</td>\n",
       "      <td>Los Angeles</td>\n",
       "      <td>90023</td>\n",
       "      <td>Los Angeles</td>\n",
       "      <td>-118.197497</td>\n",
       "      <td>34.017500</td>\n",
       "      <td>0.047920</td>\n",
       "      <td>12.251640</td>\n",
       "      <td>0.780833</td>\n",
       "      <td>...</td>\n",
       "      <td>76.10</td>\n",
       "      <td>7.11</td>\n",
       "      <td>20.87</td>\n",
       "      <td>52.2</td>\n",
       "      <td>17.1</td>\n",
       "      <td>62.6</td>\n",
       "      <td>6.4</td>\n",
       "      <td>20.3</td>\n",
       "      <td>83.751814</td>\n",
       "      <td>8.687785</td>\n",
       "    </tr>\n",
       "    <tr>\n",
       "      <th>3</th>\n",
       "      <td>6019000700</td>\n",
       "      <td>3664</td>\n",
       "      <td>Fresno</td>\n",
       "      <td>93706</td>\n",
       "      <td>Fresno</td>\n",
       "      <td>-119.827707</td>\n",
       "      <td>36.734535</td>\n",
       "      <td>0.060311</td>\n",
       "      <td>13.520939</td>\n",
       "      <td>0.173815</td>\n",
       "      <td>...</td>\n",
       "      <td>139.45</td>\n",
       "      <td>10.65</td>\n",
       "      <td>22.68</td>\n",
       "      <td>41.4</td>\n",
       "      <td>15.7</td>\n",
       "      <td>65.7</td>\n",
       "      <td>15.7</td>\n",
       "      <td>35.4</td>\n",
       "      <td>94.641227</td>\n",
       "      <td>9.817371</td>\n",
       "    </tr>\n",
       "    <tr>\n",
       "      <th>4</th>\n",
       "      <td>6019000200</td>\n",
       "      <td>2689</td>\n",
       "      <td>Fresno</td>\n",
       "      <td>93706</td>\n",
       "      <td>Fresno</td>\n",
       "      <td>-119.805504</td>\n",
       "      <td>36.735491</td>\n",
       "      <td>0.060311</td>\n",
       "      <td>13.818959</td>\n",
       "      <td>1.389658</td>\n",
       "      <td>...</td>\n",
       "      <td>139.08</td>\n",
       "      <td>10.25</td>\n",
       "      <td>22.64</td>\n",
       "      <td>43.6</td>\n",
       "      <td>20.0</td>\n",
       "      <td>72.7</td>\n",
       "      <td>13.7</td>\n",
       "      <td>32.7</td>\n",
       "      <td>95.398873</td>\n",
       "      <td>9.895964</td>\n",
       "    </tr>\n",
       "  </tbody>\n",
       "</table>\n",
       "<p>5 rows × 32 columns</p>\n",
       "</div>"
      ],
      "text/plain": [
       "   Census Tract  Total Population California County    ZIP  \\\n",
       "0    6019001100              2780           Fresno   93706   \n",
       "1    6077000700              4680       San Joaquin  95206   \n",
       "2    6037204920              2751       Los Angeles  90023   \n",
       "3    6019000700              3664           Fresno   93706   \n",
       "4    6019000200              2689           Fresno   93706   \n",
       "\n",
       "  Approximate Location   Longitude   Latitude     Ozone      PM2.5  Diesel PM  \\\n",
       "0               Fresno -119.781696  36.709695  0.060311  13.906348   1.122712   \n",
       "1             Stockton -121.287873  37.943173  0.045884  11.884085   0.538105   \n",
       "2          Los Angeles -118.197497  34.017500  0.047920  12.251640   0.780833   \n",
       "3               Fresno -119.827707  36.734535  0.060311  13.520939   0.173815   \n",
       "4               Fresno -119.805504  36.735491  0.060311  13.818959   1.389658   \n",
       "\n",
       "   ...  Asthma  Low Birth Weight  Cardiovascular Disease  Education  \\\n",
       "0  ...  129.54              7.80                   21.47       44.5   \n",
       "1  ...  105.88              6.88                   20.26       46.4   \n",
       "2  ...   76.10              7.11                   20.87       52.2   \n",
       "3  ...  139.45             10.65                   22.68       41.4   \n",
       "4  ...  139.08             10.25                   22.64       43.6   \n",
       "\n",
       "   Linguistic Isolation  Poverty  Unemployment  Housing Burden  Pop. Char.   \\\n",
       "0                  16.0     76.0          12.8            30.3    93.155109   \n",
       "1                  29.7     73.2          19.8            31.2    93.165408   \n",
       "2                  17.1     62.6           6.4            20.3    83.751814   \n",
       "3                  15.7     65.7          15.7            35.4    94.641227   \n",
       "4                  20.0     72.7          13.7            32.7    95.398873   \n",
       "\n",
       "   Pop. Char. Score  \n",
       "0          9.663213  \n",
       "1          9.664281  \n",
       "2          8.687785  \n",
       "3          9.817371  \n",
       "4          9.895964  \n",
       "\n",
       "[5 rows x 32 columns]"
      ]
     },
     "execution_count": 65,
     "metadata": {},
     "output_type": "execute_result"
    }
   ],
   "source": [
    "df = df[df.columns.drop(list(df.filter(regex='CES')))]\n",
    "df.head()"
   ]
  },
  {
   "cell_type": "code",
   "execution_count": 68,
   "id": "74da4ed3-99cf-4387-a2e2-e6b32b343062",
   "metadata": {},
   "outputs": [],
   "source": [
    "df.dropna(axis=0, how='any', inplace=True)"
   ]
  },
  {
   "cell_type": "code",
   "execution_count": 69,
   "id": "8cb1f1f8-4eee-4176-a654-25d0a5a41644",
   "metadata": {},
   "outputs": [
    {
     "data": {
      "text/plain": [
       "Census Tract              0\n",
       "Total Population          0\n",
       "Pop. Char.                0\n",
       "Housing Burden            0\n",
       "Unemployment              0\n",
       "Poverty                   0\n",
       "Linguistic Isolation      0\n",
       "Education                 0\n",
       "Cardiovascular Disease    0\n",
       "Low Birth Weight          0\n",
       "Asthma                    0\n",
       "Pollution Burden Score    0\n",
       "Pollution Burden          0\n",
       "Solid Waste               0\n",
       "Imp. Water Bodies         0\n",
       "Haz. Waste                0\n",
       "Groundwater Threats       0\n",
       "Cleanup Sites             0\n",
       "Traffic                   0\n",
       "Tox. Release              0\n",
       "Pesticides                0\n",
       "Lead                      0\n",
       "Drinking Water            0\n",
       "Diesel PM                 0\n",
       "PM2.5                     0\n",
       "Ozone                     0\n",
       "Latitude                  0\n",
       "Longitude                 0\n",
       "Approximate Location      0\n",
       "ZIP                       0\n",
       "California County         0\n",
       "Pop. Char. Score          0\n",
       "dtype: int64"
      ]
     },
     "execution_count": 69,
     "metadata": {},
     "output_type": "execute_result"
    }
   ],
   "source": [
    "df.isna().sum().sort_values(ascending=False)"
   ]
  },
  {
   "cell_type": "code",
   "execution_count": 70,
   "id": "fa867791-403a-4426-8280-90b686217090",
   "metadata": {},
   "outputs": [
    {
     "data": {
      "text/plain": [
       "(7355, 32)"
      ]
     },
     "execution_count": 70,
     "metadata": {},
     "output_type": "execute_result"
    }
   ],
   "source": [
    "df.shape"
   ]
  },
  {
   "cell_type": "code",
   "execution_count": null,
   "id": "5e3a606b-6127-471a-a85b-288f5d12fad0",
   "metadata": {},
   "outputs": [],
   "source": [
    "# merge the census data with the previously joined dataframe\n",
    "London_profiles = pd.merge( joined_wards, ward_data ,left_on = \"GSS_CODE\", right_on = \"Ward code\", how = \"left\")"
   ]
  },
  {
   "cell_type": "markdown",
   "id": "b909f648-edad-46e2-96a1-58e493724353",
   "metadata": {},
   "source": [
    "<a id=\"ID_results\"></a>\n",
    "## 6.0 | Results"
   ]
  },
  {
   "cell_type": "markdown",
   "id": "1d7f1eb6-40b4-4a3c-92a9-7240eba00a9f",
   "metadata": {},
   "source": [
    "<a id=\"ID_disc\"></a>\n",
    "## 7.0 | Discussion "
   ]
  },
  {
   "cell_type": "markdown",
   "id": "0a3a9c9b-23ce-4a41-9a3a-f3342abb1aee",
   "metadata": {},
   "source": [
    "<a id=\"ID_conc\"></a>\n",
    "## 8.0 | Conclusion"
   ]
  },
  {
   "cell_type": "markdown",
   "id": "68d691df-55fa-467f-91dd-7fc6ab7ce330",
   "metadata": {},
   "source": [
    "<a id=\"ID_biblio\"></a>\n",
    "## Bibliography"
   ]
  },
  {
   "cell_type": "markdown",
   "id": "1b1f5e3e-1a20-43c3-9ece-f3193b987a0a",
   "metadata": {},
   "source": [
    "<a id=\"ID_append\"></a>\n",
    "## Appendix"
   ]
  },
  {
   "cell_type": "code",
   "execution_count": null,
   "id": "211cd05f-5571-44d6-aaed-1f21de8404c5",
   "metadata": {},
   "outputs": [],
   "source": []
  }
 ],
 "metadata": {
  "kernelspec": {
   "display_name": "Python 3 (ipykernel)",
   "language": "python",
   "name": "python3"
  },
  "language_info": {
   "codemirror_mode": {
    "name": "ipython",
    "version": 3
   },
   "file_extension": ".py",
   "mimetype": "text/x-python",
   "name": "python",
   "nbconvert_exporter": "python",
   "pygments_lexer": "ipython3",
   "version": "3.9.6"
  },
  "toc-autonumbering": false
 },
 "nbformat": 4,
 "nbformat_minor": 5
}
