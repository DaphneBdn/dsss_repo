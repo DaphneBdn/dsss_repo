{
 "cells": [
  {
   "cell_type": "markdown",
   "id": "9086c790-a752-419e-896b-d2a0d70fc26d",
   "metadata": {},
   "source": [
    "## About this document\n",
    "This document contains the analysis and report for the Assessment of CASA0006-Data Science for Spatial Systems"
   ]
  },
  {
   "cell_type": "markdown",
   "id": "2163adc3-8dd5-4772-bc9c-a4c5937b2f5c",
   "metadata": {},
   "source": [
    "Student ID: 21203086\n",
    "Word count: XXX"
   ]
  },
  {
   "cell_type": "markdown",
   "id": "4fd8c124-5858-43d2-b9cc-40fc76c2f70a",
   "metadata": {},
   "source": [
    "--------------------------------------------------------------------------------------------------------------------------------"
   ]
  },
  {
   "cell_type": "markdown",
   "id": "d03ccec6-2deb-4764-82a6-4a0a36a77f8a",
   "metadata": {},
   "source": [
    "# TITLE XXXXXX"
   ]
  },
  {
   "cell_type": "markdown",
   "id": "547ca654-e59e-4692-b856-80dea2b3e742",
   "metadata": {},
   "source": [
    "<a id=\"ID_intr\"></a>\n",
    "| [1.0 Introduction](#ID_intro) | [2.0 Literature review](#ID_lit) | [3.0 Research Question](#ID_RQ) | [4.0 Presentation of Data](#ID_data) | [5.0 Methodology](#ID_methods) | [6.0 Results](#ID_results) | [7.0 Discussion](#ID_disc) | [8.0 Conclusion](#ID_concl) | [Bibliography](#ID_biblio) | [Appendix](#ID_append) |"
   ]
  },
  {
   "cell_type": "markdown",
   "id": "fb0f494e-5eb0-45f8-b27d-c1f775a301ba",
   "metadata": {},
   "source": [
    "<a id=\"ID_intro\"></a>\n",
    "## 1.0 | Introduction "
   ]
  },
  {
   "cell_type": "markdown",
   "id": "7bfc41cb-a586-48b7-aa26-caa71adb7853",
   "metadata": {},
   "source": [
    "This paper studies .... \n",
    "quick summary\n",
    "text text\n",
    "\n",
    "According to the Understanding Inequalities project ''the housing market has a key role in \"sorting\" poorer households into areas with the worst pollution, schools, crime and employ-ment. ''(Housing | Understanding Inequalities, 2022). This study will therefore investigate if there is a relationship between a variety of indicators for environmental, health and socioeco-nomic features that compose a census tract and house prices in the same area. The case study chosen is California and the baseline assumption is that pollution, unemployment, and poor health statistics will be reflected in the overall house price trend. "
   ]
  },
  {
   "cell_type": "markdown",
   "id": "c537de00-a015-4ded-bc2b-406cc6cb25fc",
   "metadata": {},
   "source": [
    "<a id=\"ID_lit\"></a>\n",
    "## 2.0 | Literature Review"
   ]
  },
  {
   "cell_type": "markdown",
   "id": "95d729fc-d05a-43b1-b26f-c5464fbd07a0",
   "metadata": {},
   "source": [
    "Text text text\n"
   ]
  },
  {
   "cell_type": "markdown",
   "id": "b800f037-4e81-46ef-a218-467aa4ae82e7",
   "metadata": {},
   "source": [
    "<a id=\"ID_RQ\"></a>\n",
    "## 3.0 | Research Question"
   ]
  },
  {
   "cell_type": "markdown",
   "id": "3f8ae78a-f983-4c63-bdc2-a0cebe6b46e0",
   "metadata": {},
   "source": [
    "R.Q.: Can house prices be predicted from data on environmental, health, and socioeconomic information of a census tract?\n",
    "\n",
    "    RQ1 | text \n",
    "    RQ2 | text?"
   ]
  },
  {
   "cell_type": "markdown",
   "id": "1d1bbb7b-7c19-48a8-b7c9-aecd8680aeb7",
   "metadata": {},
   "source": [
    "<a id=\"ID_data\"></a>\n",
    "## 4.0 | Presentation of Data"
   ]
  },
  {
   "cell_type": "markdown",
   "id": "8fcabc53-7956-4282-b115-247afa7aea74",
   "metadata": {},
   "source": [
    "The data used for this analysis were obtained from the following sources:\n",
    "* [CalEnviroScreen 3.0 Results](https://data.ca.gov/dataset/calenviroscreen-3-0-results/resource/89b3f4e9-0bf8-4690-8c6f-715a717f3fae), downloaded 04 April 2021:\n",
    "\n",
    "   - Who\n",
    "   [FEDERAL HOUSING FINACE AGENCY](https://www.fhfa.gov/)\n",
    "   - Where from\n",
    "   - What\n",
    "   - Data \n",
    "   - Explanation/description\n",
    "\n",
    "* [House Price Index Census Tracts](https://www.fhfa.gov/DataTools/Downloads/Pages/House-Price-Index-Datasets.aspx), downloaded 04 April 2021:\n",
    "\n",
    "   - Who\n",
    "   - Where from\n",
    "   - What\n",
    "   - Data \n",
    "   - House price index definition\n",
    "\n",
    "According to the data dictionary provided on the website:\n",
    "\"The FHFA House Price Index (HPI) is a broad measure of the movement of single-family house prices.  The HPI is a weighted, repeat-sales index, meaning that it measures average price changes in repeat sales or refinancings on the same properties. This information is obtained by reviewing repeat mortgage transactions on single-family properties whose mortgages have been purchased or securitized by Fannie Mae or Freddie Mac since January 1975.\"\n",
    "\n",
    "\n",
    "\n",
    "For ease of access the data has been saved in this [GitHub repository](https://github.com/DaphneBdn/dsss_repo) "
   ]
  },
  {
   "cell_type": "markdown",
   "id": "a83fb95c-5df1-4c53-b08b-1dc5ed70eb00",
   "metadata": {},
   "source": [
    "<a id=\"ID_methods\"></a>\n",
    "## 5.0 | Methodology"
   ]
  },
  {
   "cell_type": "markdown",
   "id": "71904047-0728-4151-a7bf-25997326ad23",
   "metadata": {},
   "source": [
    "Outline of methodology....text text text"
   ]
  },
  {
   "cell_type": "markdown",
   "id": "ba636ece-fb67-4eec-9e02-7078e0559f10",
   "metadata": {},
   "source": [
    "5.1 Libraries\n",
    "\n",
    "Loading the necessary libraries"
   ]
  },
  {
   "cell_type": "code",
   "execution_count": 3,
   "id": "1067c74c-1a82-48a9-9f40-b7bfb419721d",
   "metadata": {},
   "outputs": [],
   "source": [
    "# data manipulation and processing\n",
    "#import os\n",
    "import math\n",
    "import numpy as np\n",
    "import pandas as pd\n",
    "\n",
    "# analysis\n",
    "\n",
    "# Packages for visualisation\n",
    "import matplotlib.cm as cm\n",
    "import matplotlib.pyplot as plt\n",
    "import seaborn as sns\n",
    "\n",
    "# reproducability settings\n",
    "random_state = 42 \n",
    "np.random.seed(random_state)\n"
   ]
  },
  {
   "cell_type": "markdown",
   "id": "c6d8c909-a99f-4559-8927-09b04a2ffea6",
   "metadata": {},
   "source": [
    "5.1 Data Loading "
   ]
  },
  {
   "cell_type": "code",
   "execution_count": 16,
   "id": "2cab63fe-0fa8-4b60-ab7c-728d95070277",
   "metadata": {},
   "outputs": [
    {
     "data": {
      "text/html": [
       "<div>\n",
       "<style scoped>\n",
       "    .dataframe tbody tr th:only-of-type {\n",
       "        vertical-align: middle;\n",
       "    }\n",
       "\n",
       "    .dataframe tbody tr th {\n",
       "        vertical-align: top;\n",
       "    }\n",
       "\n",
       "    .dataframe thead th {\n",
       "        text-align: right;\n",
       "    }\n",
       "</style>\n",
       "<table border=\"1\" class=\"dataframe\">\n",
       "  <thead>\n",
       "    <tr style=\"text-align: right;\">\n",
       "      <th></th>\n",
       "      <th>tract</th>\n",
       "      <th>state_abbr</th>\n",
       "      <th>year</th>\n",
       "      <th>annual_change</th>\n",
       "      <th>hpi</th>\n",
       "      <th>hpi1990</th>\n",
       "      <th>hpi2000</th>\n",
       "    </tr>\n",
       "  </thead>\n",
       "  <tbody>\n",
       "    <tr>\n",
       "      <th>0</th>\n",
       "      <td>1001020100</td>\n",
       "      <td>AL</td>\n",
       "      <td>1998</td>\n",
       "      <td>NaN</td>\n",
       "      <td>100.000000</td>\n",
       "      <td>NaN</td>\n",
       "      <td>100.82</td>\n",
       "    </tr>\n",
       "    <tr>\n",
       "      <th>1</th>\n",
       "      <td>1001020100</td>\n",
       "      <td>AL</td>\n",
       "      <td>1999</td>\n",
       "      <td>-5.60</td>\n",
       "      <td>94.400002</td>\n",
       "      <td>NaN</td>\n",
       "      <td>95.18</td>\n",
       "    </tr>\n",
       "    <tr>\n",
       "      <th>2</th>\n",
       "      <td>1001020100</td>\n",
       "      <td>AL</td>\n",
       "      <td>2000</td>\n",
       "      <td>5.06</td>\n",
       "      <td>99.180000</td>\n",
       "      <td>NaN</td>\n",
       "      <td>100.00</td>\n",
       "    </tr>\n",
       "    <tr>\n",
       "      <th>3</th>\n",
       "      <td>1001020100</td>\n",
       "      <td>AL</td>\n",
       "      <td>2001</td>\n",
       "      <td>7.08</td>\n",
       "      <td>106.210000</td>\n",
       "      <td>NaN</td>\n",
       "      <td>107.08</td>\n",
       "    </tr>\n",
       "    <tr>\n",
       "      <th>4</th>\n",
       "      <td>1001020100</td>\n",
       "      <td>AL</td>\n",
       "      <td>2002</td>\n",
       "      <td>7.11</td>\n",
       "      <td>113.760000</td>\n",
       "      <td>NaN</td>\n",
       "      <td>114.70</td>\n",
       "    </tr>\n",
       "  </tbody>\n",
       "</table>\n",
       "</div>"
      ],
      "text/plain": [
       "        tract state_abbr  year  annual_change         hpi  hpi1990  hpi2000\n",
       "0  1001020100         AL  1998            NaN  100.000000      NaN   100.82\n",
       "1  1001020100         AL  1999          -5.60   94.400002      NaN    95.18\n",
       "2  1001020100         AL  2000           5.06   99.180000      NaN   100.00\n",
       "3  1001020100         AL  2001           7.08  106.210000      NaN   107.08\n",
       "4  1001020100         AL  2002           7.11  113.760000      NaN   114.70"
      ]
     },
     "execution_count": 16,
     "metadata": {},
     "output_type": "execute_result"
    }
   ],
   "source": [
    "# Load in the House Price Index data \n",
    "#dfprice = pd.read_csv('https://github.com/DaphneBdn/dsss_repo/blob/main/data/raw/HPI_AT_BDL_tract.csv')\n",
    "dfprice = pd.read_csv('data/raw/HPI_AT_BDL_tract.csv')\n",
    "dfprice.head(5)"
   ]
  },
  {
   "cell_type": "code",
   "execution_count": 17,
   "id": "e5fd100d-ad64-43be-833c-47fedd238f9a",
   "metadata": {},
   "outputs": [
    {
     "data": {
      "text/html": [
       "<div>\n",
       "<style scoped>\n",
       "    .dataframe tbody tr th:only-of-type {\n",
       "        vertical-align: middle;\n",
       "    }\n",
       "\n",
       "    .dataframe tbody tr th {\n",
       "        vertical-align: top;\n",
       "    }\n",
       "\n",
       "    .dataframe thead th {\n",
       "        text-align: right;\n",
       "    }\n",
       "</style>\n",
       "<table border=\"1\" class=\"dataframe\">\n",
       "  <thead>\n",
       "    <tr style=\"text-align: right;\">\n",
       "      <th></th>\n",
       "      <th>tract</th>\n",
       "      <th>state_abbr</th>\n",
       "      <th>year</th>\n",
       "      <th>annual_change</th>\n",
       "      <th>hpi</th>\n",
       "      <th>hpi1990</th>\n",
       "      <th>hpi2000</th>\n",
       "    </tr>\n",
       "  </thead>\n",
       "  <tbody>\n",
       "    <tr>\n",
       "      <th>1048570</th>\n",
       "      <td>29007950100</td>\n",
       "      <td>MO</td>\n",
       "      <td>2003</td>\n",
       "      <td>NaN</td>\n",
       "      <td>100.00</td>\n",
       "      <td>NaN</td>\n",
       "      <td>NaN</td>\n",
       "    </tr>\n",
       "    <tr>\n",
       "      <th>1048571</th>\n",
       "      <td>29007950100</td>\n",
       "      <td>MO</td>\n",
       "      <td>2004</td>\n",
       "      <td>11.68</td>\n",
       "      <td>111.68</td>\n",
       "      <td>NaN</td>\n",
       "      <td>NaN</td>\n",
       "    </tr>\n",
       "    <tr>\n",
       "      <th>1048572</th>\n",
       "      <td>29007950100</td>\n",
       "      <td>MO</td>\n",
       "      <td>2005</td>\n",
       "      <td>-6.56</td>\n",
       "      <td>104.36</td>\n",
       "      <td>NaN</td>\n",
       "      <td>NaN</td>\n",
       "    </tr>\n",
       "    <tr>\n",
       "      <th>1048573</th>\n",
       "      <td>29007950100</td>\n",
       "      <td>MO</td>\n",
       "      <td>2006</td>\n",
       "      <td>7.93</td>\n",
       "      <td>112.63</td>\n",
       "      <td>NaN</td>\n",
       "      <td>NaN</td>\n",
       "    </tr>\n",
       "    <tr>\n",
       "      <th>1048574</th>\n",
       "      <td>29007950100</td>\n",
       "      <td>MO</td>\n",
       "      <td>2007</td>\n",
       "      <td>-9.61</td>\n",
       "      <td>101.81</td>\n",
       "      <td>NaN</td>\n",
       "      <td>NaN</td>\n",
       "    </tr>\n",
       "  </tbody>\n",
       "</table>\n",
       "</div>"
      ],
      "text/plain": [
       "               tract state_abbr  year  annual_change     hpi  hpi1990  hpi2000\n",
       "1048570  29007950100         MO  2003            NaN  100.00      NaN      NaN\n",
       "1048571  29007950100         MO  2004          11.68  111.68      NaN      NaN\n",
       "1048572  29007950100         MO  2005          -6.56  104.36      NaN      NaN\n",
       "1048573  29007950100         MO  2006           7.93  112.63      NaN      NaN\n",
       "1048574  29007950100         MO  2007          -9.61  101.81      NaN      NaN"
      ]
     },
     "execution_count": 17,
     "metadata": {},
     "output_type": "execute_result"
    }
   ],
   "source": [
    "dfprice.tail(5)"
   ]
  },
  {
   "cell_type": "code",
   "execution_count": 14,
   "id": "3d170c5e-d569-44f6-aaea-14a0ab602690",
   "metadata": {},
   "outputs": [
    {
     "data": {
      "text/plain": [
       "(1048575, 7)"
      ]
     },
     "execution_count": 14,
     "metadata": {},
     "output_type": "execute_result"
    }
   ],
   "source": [
    "#check the size of the dataframe\n",
    "dfprice.shape"
   ]
  },
  {
   "cell_type": "code",
   "execution_count": 15,
   "id": "520b66fb-87c9-4ee5-aa3c-792270ca9851",
   "metadata": {},
   "outputs": [
    {
     "name": "stdout",
     "output_type": "stream",
     "text": [
      "<class 'pandas.core.frame.DataFrame'>\n",
      "RangeIndex: 1048575 entries, 0 to 1048574\n",
      "Data columns (total 7 columns):\n",
      " #   Column         Non-Null Count    Dtype  \n",
      "---  ------         --------------    -----  \n",
      " 0   tract          1048575 non-null  int64  \n",
      " 1   state_abbr     1048575 non-null  object \n",
      " 2   year           1048575 non-null  int64  \n",
      " 3   annual_change  968146 non-null   float64\n",
      " 4   hpi            1017771 non-null  float64\n",
      " 5   hpi1990        542092 non-null   float64\n",
      " 6   hpi2000        900951 non-null   float64\n",
      "dtypes: float64(4), int64(2), object(1)\n",
      "memory usage: 56.0+ MB\n"
     ]
    }
   ],
   "source": [
    "# check the datatype of each column \n",
    "dfprice.info()"
   ]
  },
  {
   "cell_type": "markdown",
   "id": "170a293f-9755-4786-9462-c9e05fd609e5",
   "metadata": {},
   "source": [
    "After the first inspection of the data the key things to note are: \n",
    "* There are 1,048,575 entries in total\n",
    "* There are multiple NA values: discuss approach, which columns\n",
    "* years 1998-2007"
   ]
  },
  {
   "cell_type": "markdown",
   "id": "a195c9cf-ec98-45ce-b3b2-9b7b4bc70fed",
   "metadata": {},
   "source": [
    "#### subseting/filtering"
   ]
  },
  {
   "cell_type": "markdown",
   "id": "c49fbf49-ece9-412e-adfb-c204a654e8f2",
   "metadata": {},
   "source": [
    "* Extract census tracts of California only.\n",
    "* Keep hpi \n",
    "* Year: Ideally keep only 2018, so as to match with the Enviro Dataset.\n",
    "* If many NAs in 2018: perhaps combine the year before and after? "
   ]
  },
  {
   "cell_type": "code",
   "execution_count": 26,
   "id": "3bd2a51e-4ae2-4551-8291-1420d8b60f5b",
   "metadata": {},
   "outputs": [],
   "source": [
    "dfCAall = dfprice[dfprice['state_abbr']==\"CA\"]"
   ]
  },
  {
   "cell_type": "code",
   "execution_count": 27,
   "id": "86e3bfd4-ea56-4516-ae32-e9c865b1f6c1",
   "metadata": {},
   "outputs": [
    {
     "data": {
      "text/plain": [
       "(264546, 7)"
      ]
     },
     "execution_count": 27,
     "metadata": {},
     "output_type": "execute_result"
    }
   ],
   "source": [
    "dfCAall.shape"
   ]
  },
  {
   "cell_type": "code",
   "execution_count": 38,
   "id": "d038640b-21a8-4d37-9760-e5b25c6fb60d",
   "metadata": {},
   "outputs": [],
   "source": [
    "columns = dfCAall.columns\n",
    "columns\n",
    "todrop=['annual_change', 'hpi1990','hpi2000']"
   ]
  },
  {
   "cell_type": "code",
   "execution_count": 39,
   "id": "e46f8971-f27f-4631-8b27-5fdec1b8cb3e",
   "metadata": {},
   "outputs": [
    {
     "name": "stderr",
     "output_type": "stream",
     "text": [
      "/opt/conda/envs/sds2021/lib/python3.9/site-packages/pandas/core/frame.py:4901: SettingWithCopyWarning: \n",
      "A value is trying to be set on a copy of a slice from a DataFrame\n",
      "\n",
      "See the caveats in the documentation: https://pandas.pydata.org/pandas-docs/stable/user_guide/indexing.html#returning-a-view-versus-a-copy\n",
      "  return super().drop(\n"
     ]
    },
    {
     "data": {
      "text/html": [
       "<div>\n",
       "<style scoped>\n",
       "    .dataframe tbody tr th:only-of-type {\n",
       "        vertical-align: middle;\n",
       "    }\n",
       "\n",
       "    .dataframe tbody tr th {\n",
       "        vertical-align: top;\n",
       "    }\n",
       "\n",
       "    .dataframe thead th {\n",
       "        text-align: right;\n",
       "    }\n",
       "</style>\n",
       "<table border=\"1\" class=\"dataframe\">\n",
       "  <thead>\n",
       "    <tr style=\"text-align: right;\">\n",
       "      <th></th>\n",
       "      <th>tract</th>\n",
       "      <th>state_abbr</th>\n",
       "      <th>year</th>\n",
       "      <th>hpi</th>\n",
       "    </tr>\n",
       "  </thead>\n",
       "  <tbody>\n",
       "    <tr>\n",
       "      <th>77893</th>\n",
       "      <td>6001400100</td>\n",
       "      <td>CA</td>\n",
       "      <td>1986</td>\n",
       "      <td>100.00000</td>\n",
       "    </tr>\n",
       "    <tr>\n",
       "      <th>77894</th>\n",
       "      <td>6001400100</td>\n",
       "      <td>CA</td>\n",
       "      <td>1987</td>\n",
       "      <td>103.27000</td>\n",
       "    </tr>\n",
       "    <tr>\n",
       "      <th>77895</th>\n",
       "      <td>6001400100</td>\n",
       "      <td>CA</td>\n",
       "      <td>1988</td>\n",
       "      <td>129.86000</td>\n",
       "    </tr>\n",
       "    <tr>\n",
       "      <th>77896</th>\n",
       "      <td>6001400100</td>\n",
       "      <td>CA</td>\n",
       "      <td>1989</td>\n",
       "      <td>142.83000</td>\n",
       "    </tr>\n",
       "    <tr>\n",
       "      <th>77897</th>\n",
       "      <td>6001400100</td>\n",
       "      <td>CA</td>\n",
       "      <td>1990</td>\n",
       "      <td>150.85001</td>\n",
       "    </tr>\n",
       "    <tr>\n",
       "      <th>...</th>\n",
       "      <td>...</td>\n",
       "      <td>...</td>\n",
       "      <td>...</td>\n",
       "      <td>...</td>\n",
       "    </tr>\n",
       "    <tr>\n",
       "      <th>342434</th>\n",
       "      <td>6115041102</td>\n",
       "      <td>CA</td>\n",
       "      <td>2017</td>\n",
       "      <td>175.52000</td>\n",
       "    </tr>\n",
       "    <tr>\n",
       "      <th>342435</th>\n",
       "      <td>6115041102</td>\n",
       "      <td>CA</td>\n",
       "      <td>2018</td>\n",
       "      <td>199.45000</td>\n",
       "    </tr>\n",
       "    <tr>\n",
       "      <th>342436</th>\n",
       "      <td>6115041102</td>\n",
       "      <td>CA</td>\n",
       "      <td>2019</td>\n",
       "      <td>211.89999</td>\n",
       "    </tr>\n",
       "    <tr>\n",
       "      <th>342437</th>\n",
       "      <td>6115041102</td>\n",
       "      <td>CA</td>\n",
       "      <td>2020</td>\n",
       "      <td>224.97000</td>\n",
       "    </tr>\n",
       "    <tr>\n",
       "      <th>342438</th>\n",
       "      <td>6115041102</td>\n",
       "      <td>CA</td>\n",
       "      <td>2021</td>\n",
       "      <td>260.67999</td>\n",
       "    </tr>\n",
       "  </tbody>\n",
       "</table>\n",
       "<p>264546 rows × 4 columns</p>\n",
       "</div>"
      ],
      "text/plain": [
       "             tract state_abbr  year        hpi\n",
       "77893   6001400100         CA  1986  100.00000\n",
       "77894   6001400100         CA  1987  103.27000\n",
       "77895   6001400100         CA  1988  129.86000\n",
       "77896   6001400100         CA  1989  142.83000\n",
       "77897   6001400100         CA  1990  150.85001\n",
       "...            ...        ...   ...        ...\n",
       "342434  6115041102         CA  2017  175.52000\n",
       "342435  6115041102         CA  2018  199.45000\n",
       "342436  6115041102         CA  2019  211.89999\n",
       "342437  6115041102         CA  2020  224.97000\n",
       "342438  6115041102         CA  2021  260.67999\n",
       "\n",
       "[264546 rows x 4 columns]"
      ]
     },
     "execution_count": 39,
     "metadata": {},
     "output_type": "execute_result"
    }
   ],
   "source": [
    "dfCAall.drop(columns=todrop, inplace=True)\n",
    "dfCAall"
   ]
  },
  {
   "cell_type": "code",
   "execution_count": 50,
   "id": "3cee7814-85c3-4a9c-b2ff-d1a8e54e7d3a",
   "metadata": {},
   "outputs": [
    {
     "data": {
      "text/plain": [
       "7720"
      ]
     },
     "execution_count": 50,
     "metadata": {},
     "output_type": "execute_result"
    }
   ],
   "source": [
    "# check the number of tracts\n",
    "dfCAall['tract'].nunique()"
   ]
  },
  {
   "cell_type": "code",
   "execution_count": 40,
   "id": "58edecf4-f6ac-4185-aa6b-506d593aac60",
   "metadata": {},
   "outputs": [
    {
     "data": {
      "text/html": [
       "<div>\n",
       "<style scoped>\n",
       "    .dataframe tbody tr th:only-of-type {\n",
       "        vertical-align: middle;\n",
       "    }\n",
       "\n",
       "    .dataframe tbody tr th {\n",
       "        vertical-align: top;\n",
       "    }\n",
       "\n",
       "    .dataframe thead th {\n",
       "        text-align: right;\n",
       "    }\n",
       "</style>\n",
       "<table border=\"1\" class=\"dataframe\">\n",
       "  <thead>\n",
       "    <tr style=\"text-align: right;\">\n",
       "      <th></th>\n",
       "      <th>tract</th>\n",
       "      <th>state_abbr</th>\n",
       "      <th>year</th>\n",
       "      <th>hpi</th>\n",
       "    </tr>\n",
       "  </thead>\n",
       "  <tbody>\n",
       "    <tr>\n",
       "      <th>77925</th>\n",
       "      <td>6001400100</td>\n",
       "      <td>CA</td>\n",
       "      <td>2018</td>\n",
       "      <td>548.07001</td>\n",
       "    </tr>\n",
       "    <tr>\n",
       "      <th>77961</th>\n",
       "      <td>6001400200</td>\n",
       "      <td>CA</td>\n",
       "      <td>2018</td>\n",
       "      <td>647.09998</td>\n",
       "    </tr>\n",
       "    <tr>\n",
       "      <th>78004</th>\n",
       "      <td>6001400300</td>\n",
       "      <td>CA</td>\n",
       "      <td>2018</td>\n",
       "      <td>1491.56010</td>\n",
       "    </tr>\n",
       "    <tr>\n",
       "      <th>78047</th>\n",
       "      <td>6001400400</td>\n",
       "      <td>CA</td>\n",
       "      <td>2018</td>\n",
       "      <td>1559.68010</td>\n",
       "    </tr>\n",
       "    <tr>\n",
       "      <th>78083</th>\n",
       "      <td>6001400500</td>\n",
       "      <td>CA</td>\n",
       "      <td>2018</td>\n",
       "      <td>789.46997</td>\n",
       "    </tr>\n",
       "    <tr>\n",
       "      <th>...</th>\n",
       "      <td>...</td>\n",
       "      <td>...</td>\n",
       "      <td>...</td>\n",
       "      <td>...</td>\n",
       "    </tr>\n",
       "    <tr>\n",
       "      <th>342313</th>\n",
       "      <td>6115040901</td>\n",
       "      <td>CA</td>\n",
       "      <td>2018</td>\n",
       "      <td>196.80000</td>\n",
       "    </tr>\n",
       "    <tr>\n",
       "      <th>342345</th>\n",
       "      <td>6115041001</td>\n",
       "      <td>CA</td>\n",
       "      <td>2018</td>\n",
       "      <td>249.62000</td>\n",
       "    </tr>\n",
       "    <tr>\n",
       "      <th>342376</th>\n",
       "      <td>6115041002</td>\n",
       "      <td>CA</td>\n",
       "      <td>2018</td>\n",
       "      <td>250.35001</td>\n",
       "    </tr>\n",
       "    <tr>\n",
       "      <th>342406</th>\n",
       "      <td>6115041101</td>\n",
       "      <td>CA</td>\n",
       "      <td>2018</td>\n",
       "      <td>209.84000</td>\n",
       "    </tr>\n",
       "    <tr>\n",
       "      <th>342435</th>\n",
       "      <td>6115041102</td>\n",
       "      <td>CA</td>\n",
       "      <td>2018</td>\n",
       "      <td>199.45000</td>\n",
       "    </tr>\n",
       "  </tbody>\n",
       "</table>\n",
       "<p>7711 rows × 4 columns</p>\n",
       "</div>"
      ],
      "text/plain": [
       "             tract state_abbr  year         hpi\n",
       "77925   6001400100         CA  2018   548.07001\n",
       "77961   6001400200         CA  2018   647.09998\n",
       "78004   6001400300         CA  2018  1491.56010\n",
       "78047   6001400400         CA  2018  1559.68010\n",
       "78083   6001400500         CA  2018   789.46997\n",
       "...            ...        ...   ...         ...\n",
       "342313  6115040901         CA  2018   196.80000\n",
       "342345  6115041001         CA  2018   249.62000\n",
       "342376  6115041002         CA  2018   250.35001\n",
       "342406  6115041101         CA  2018   209.84000\n",
       "342435  6115041102         CA  2018   199.45000\n",
       "\n",
       "[7711 rows x 4 columns]"
      ]
     },
     "execution_count": 40,
     "metadata": {},
     "output_type": "execute_result"
    }
   ],
   "source": [
    "dfCA2018= dfCAall[dfCAall['year']==2018]\n",
    "dfCA2018"
   ]
  },
  {
   "cell_type": "code",
   "execution_count": 41,
   "id": "2f184d46-e648-41dc-a56b-e2fb510ec413",
   "metadata": {},
   "outputs": [
    {
     "data": {
      "text/plain": [
       "hpi           863\n",
       "tract           0\n",
       "state_abbr      0\n",
       "year            0\n",
       "dtype: int64"
      ]
     },
     "execution_count": 41,
     "metadata": {},
     "output_type": "execute_result"
    }
   ],
   "source": [
    "# change settings to display all rows\n",
    "#pd.set_option('display.max_rows', None)\n",
    "\n",
    "# investigate NA values by printing out the count of NA values per column \n",
    "dfCA2018.isna().sum().sort_values(ascending=False)\n",
    "\n",
    "# change settings back \n",
    "#pd.reset_option('all')"
   ]
  },
  {
   "cell_type": "code",
   "execution_count": 42,
   "id": "2eb7c9db-ab03-4bfc-bb1a-68ec528f6b19",
   "metadata": {},
   "outputs": [
    {
     "data": {
      "text/plain": [
       "hpi           570\n",
       "tract           0\n",
       "state_abbr      0\n",
       "year            0\n",
       "dtype: int64"
      ]
     },
     "execution_count": 42,
     "metadata": {},
     "output_type": "execute_result"
    }
   ],
   "source": [
    "dfCA2017= dfCAall[dfCAall['year']==2017]\n",
    "dfCA2017.isna().sum().sort_values(ascending=False)"
   ]
  },
  {
   "cell_type": "code",
   "execution_count": 43,
   "id": "db8868ef-e6ed-4980-b5c9-3fa7daf0d4c5",
   "metadata": {},
   "outputs": [
    {
     "data": {
      "text/plain": [
       "hpi           551\n",
       "tract           0\n",
       "state_abbr      0\n",
       "year            0\n",
       "dtype: int64"
      ]
     },
     "execution_count": 43,
     "metadata": {},
     "output_type": "execute_result"
    }
   ],
   "source": [
    "dfCA2019= dfCAall[dfCAall['year']==2019]\n",
    "dfCA2019.isna().sum().sort_values(ascending=False)"
   ]
  },
  {
   "cell_type": "code",
   "execution_count": 35,
   "id": "3d525f10-4e51-4986-ad24-040d25a14275",
   "metadata": {},
   "outputs": [
    {
     "data": {
      "text/plain": [
       "hpi1990          8522\n",
       "hpi2000          4226\n",
       "annual_change    2484\n",
       "hpi              1984\n",
       "tract               0\n",
       "state_abbr          0\n",
       "year                0\n",
       "dtype: int64"
      ]
     },
     "execution_count": 35,
     "metadata": {},
     "output_type": "execute_result"
    }
   ],
   "source": [
    "dfCA3 = dfCAall[(dfCAall['year']==2017) | (dfCAall['year']==2018) |(dfCAall['year']==2019)]\n",
    "dfCA3.isna().sum().sort_values(ascending=False)"
   ]
  },
  {
   "cell_type": "markdown",
   "id": "f4dd22b4-ed77-43fe-b29f-91a58376a8fa",
   "metadata": {},
   "source": [
    "#### envir data"
   ]
  },
  {
   "cell_type": "code",
   "execution_count": 44,
   "id": "163c6e77-7e5c-4386-9a78-525baf627d55",
   "metadata": {},
   "outputs": [
    {
     "data": {
      "text/html": [
       "<div>\n",
       "<style scoped>\n",
       "    .dataframe tbody tr th:only-of-type {\n",
       "        vertical-align: middle;\n",
       "    }\n",
       "\n",
       "    .dataframe tbody tr th {\n",
       "        vertical-align: top;\n",
       "    }\n",
       "\n",
       "    .dataframe thead th {\n",
       "        text-align: right;\n",
       "    }\n",
       "</style>\n",
       "<table border=\"1\" class=\"dataframe\">\n",
       "  <thead>\n",
       "    <tr style=\"text-align: right;\">\n",
       "      <th></th>\n",
       "      <th>Census Tract</th>\n",
       "      <th>Total Population</th>\n",
       "      <th>California County</th>\n",
       "      <th>ZIP</th>\n",
       "      <th>Nearby City \\n(to help approximate location only)</th>\n",
       "      <th>Longitude</th>\n",
       "      <th>Latitude</th>\n",
       "      <th>CES 3.0 Score</th>\n",
       "      <th>CES 3.0 Percentile</th>\n",
       "      <th>CES 3.0 \\nPercentile Range</th>\n",
       "      <th>...</th>\n",
       "      <th>Linguistic Isolation Pctl</th>\n",
       "      <th>Poverty</th>\n",
       "      <th>Poverty Pctl</th>\n",
       "      <th>Unemployment</th>\n",
       "      <th>Unemployment Pctl</th>\n",
       "      <th>Housing Burden</th>\n",
       "      <th>Housing Burden Pctl</th>\n",
       "      <th>Pop. Char.</th>\n",
       "      <th>Pop. Char. Score</th>\n",
       "      <th>Pop. Char. Pctl</th>\n",
       "    </tr>\n",
       "  </thead>\n",
       "  <tbody>\n",
       "    <tr>\n",
       "      <th>0</th>\n",
       "      <td>6019001100</td>\n",
       "      <td>3174</td>\n",
       "      <td>Fresno</td>\n",
       "      <td>93706</td>\n",
       "      <td>Fresno</td>\n",
       "      <td>-119.781696</td>\n",
       "      <td>36.709695</td>\n",
       "      <td>94.09</td>\n",
       "      <td>100.00</td>\n",
       "      <td>95-100% (highest scores)</td>\n",
       "      <td>...</td>\n",
       "      <td>77.51</td>\n",
       "      <td>76.3</td>\n",
       "      <td>97.12</td>\n",
       "      <td>17.6</td>\n",
       "      <td>91.72</td>\n",
       "      <td>26.0</td>\n",
       "      <td>79.40</td>\n",
       "      <td>92.12</td>\n",
       "      <td>9.55</td>\n",
       "      <td>99.70</td>\n",
       "    </tr>\n",
       "    <tr>\n",
       "      <th>1</th>\n",
       "      <td>6071001600</td>\n",
       "      <td>6133</td>\n",
       "      <td>San Bernardino</td>\n",
       "      <td>91761</td>\n",
       "      <td>Ontario</td>\n",
       "      <td>-117.618013</td>\n",
       "      <td>34.057780</td>\n",
       "      <td>90.68</td>\n",
       "      <td>99.99</td>\n",
       "      <td>95-100% (highest scores)</td>\n",
       "      <td>...</td>\n",
       "      <td>96.25</td>\n",
       "      <td>72.5</td>\n",
       "      <td>94.63</td>\n",
       "      <td>12.3</td>\n",
       "      <td>71.82</td>\n",
       "      <td>34.1</td>\n",
       "      <td>93.75</td>\n",
       "      <td>87.44</td>\n",
       "      <td>9.07</td>\n",
       "      <td>98.11</td>\n",
       "    </tr>\n",
       "    <tr>\n",
       "      <th>2</th>\n",
       "      <td>6019000200</td>\n",
       "      <td>3167</td>\n",
       "      <td>Fresno</td>\n",
       "      <td>93706</td>\n",
       "      <td>Fresno</td>\n",
       "      <td>-119.805504</td>\n",
       "      <td>36.735491</td>\n",
       "      <td>85.97</td>\n",
       "      <td>99.97</td>\n",
       "      <td>95-100% (highest scores)</td>\n",
       "      <td>...</td>\n",
       "      <td>78.39</td>\n",
       "      <td>86.8</td>\n",
       "      <td>99.56</td>\n",
       "      <td>16.1</td>\n",
       "      <td>87.98</td>\n",
       "      <td>40.1</td>\n",
       "      <td>97.85</td>\n",
       "      <td>94.58</td>\n",
       "      <td>9.81</td>\n",
       "      <td>99.99</td>\n",
       "    </tr>\n",
       "    <tr>\n",
       "      <th>3</th>\n",
       "      <td>6077000801</td>\n",
       "      <td>6692</td>\n",
       "      <td>San Joaquin</td>\n",
       "      <td>95203</td>\n",
       "      <td>Stockton</td>\n",
       "      <td>-121.314524</td>\n",
       "      <td>37.940517</td>\n",
       "      <td>82.49</td>\n",
       "      <td>99.96</td>\n",
       "      <td>95-100% (highest scores)</td>\n",
       "      <td>...</td>\n",
       "      <td>75.14</td>\n",
       "      <td>61.3</td>\n",
       "      <td>85.57</td>\n",
       "      <td>19.6</td>\n",
       "      <td>94.97</td>\n",
       "      <td>21.1</td>\n",
       "      <td>63.54</td>\n",
       "      <td>86.70</td>\n",
       "      <td>8.99</td>\n",
       "      <td>97.72</td>\n",
       "    </tr>\n",
       "    <tr>\n",
       "      <th>4</th>\n",
       "      <td>6019001500</td>\n",
       "      <td>2206</td>\n",
       "      <td>Fresno</td>\n",
       "      <td>93725</td>\n",
       "      <td>Fresno</td>\n",
       "      <td>-119.717843</td>\n",
       "      <td>36.681600</td>\n",
       "      <td>82.03</td>\n",
       "      <td>99.95</td>\n",
       "      <td>95-100% (highest scores)</td>\n",
       "      <td>...</td>\n",
       "      <td>73.72</td>\n",
       "      <td>66.4</td>\n",
       "      <td>90.23</td>\n",
       "      <td>18.6</td>\n",
       "      <td>93.65</td>\n",
       "      <td>28.1</td>\n",
       "      <td>83.98</td>\n",
       "      <td>80.08</td>\n",
       "      <td>8.30</td>\n",
       "      <td>92.76</td>\n",
       "    </tr>\n",
       "  </tbody>\n",
       "</table>\n",
       "<p>5 rows × 57 columns</p>\n",
       "</div>"
      ],
      "text/plain": [
       "   Census Tract  Total Population California County    ZIP  \\\n",
       "0    6019001100              3174           Fresno   93706   \n",
       "1    6071001600              6133    San Bernardino  91761   \n",
       "2    6019000200              3167           Fresno   93706   \n",
       "3    6077000801              6692       San Joaquin  95203   \n",
       "4    6019001500              2206           Fresno   93725   \n",
       "\n",
       "  Nearby City \\n(to help approximate location only)   Longitude   Latitude  \\\n",
       "0                                            Fresno -119.781696  36.709695   \n",
       "1                                           Ontario -117.618013  34.057780   \n",
       "2                                            Fresno -119.805504  36.735491   \n",
       "3                                          Stockton -121.314524  37.940517   \n",
       "4                                            Fresno -119.717843  36.681600   \n",
       "\n",
       "   CES 3.0 Score   CES 3.0 Percentile CES 3.0 \\nPercentile Range  ...  \\\n",
       "0          94.09               100.00   95-100% (highest scores)  ...   \n",
       "1          90.68                99.99   95-100% (highest scores)  ...   \n",
       "2          85.97                99.97   95-100% (highest scores)  ...   \n",
       "3          82.49                99.96   95-100% (highest scores)  ...   \n",
       "4          82.03                99.95   95-100% (highest scores)  ...   \n",
       "\n",
       "  Linguistic Isolation Pctl  Poverty  Poverty Pctl  Unemployment  \\\n",
       "0                     77.51     76.3         97.12          17.6   \n",
       "1                     96.25     72.5         94.63          12.3   \n",
       "2                     78.39     86.8         99.56          16.1   \n",
       "3                     75.14     61.3         85.57          19.6   \n",
       "4                     73.72     66.4         90.23          18.6   \n",
       "\n",
       "   Unemployment Pctl  Housing Burden  Housing Burden Pctl  Pop. Char.   \\\n",
       "0              91.72            26.0                79.40        92.12   \n",
       "1              71.82            34.1                93.75        87.44   \n",
       "2              87.98            40.1                97.85        94.58   \n",
       "3              94.97            21.1                63.54        86.70   \n",
       "4              93.65            28.1                83.98        80.08   \n",
       "\n",
       "   Pop. Char. Score  Pop. Char. Pctl  \n",
       "0              9.55            99.70  \n",
       "1              9.07            98.11  \n",
       "2              9.81            99.99  \n",
       "3              8.99            97.72  \n",
       "4              8.30            92.76  \n",
       "\n",
       "[5 rows x 57 columns]"
      ]
     },
     "execution_count": 44,
     "metadata": {},
     "output_type": "execute_result"
    }
   ],
   "source": [
    "# Load in the Enviro data \n",
    "#dfenv = pd.read_csv('https://github.com/DaphneBdn/dsss_repo/blob/main/data/raw/calenviroscreen-3.0-results-june-2018-update.csv')\n",
    "dfenv = pd.read_csv('data/raw/calenviroscreen-3.0-results-june-2018-update.csv')\n",
    "dfenv.head(5)"
   ]
  },
  {
   "cell_type": "code",
   "execution_count": 45,
   "id": "839de626-0cfb-44c1-80df-a1b5320e472e",
   "metadata": {},
   "outputs": [
    {
     "data": {
      "text/plain": [
       "(8035, 57)"
      ]
     },
     "execution_count": 45,
     "metadata": {},
     "output_type": "execute_result"
    }
   ],
   "source": [
    "# check size of dataframe\n",
    "dfenv.shape"
   ]
  },
  {
   "cell_type": "code",
   "execution_count": 46,
   "id": "583f15be-fc51-4415-81a0-c0570ea65c18",
   "metadata": {},
   "outputs": [
    {
     "data": {
      "text/plain": [
       "Linguistic Isolation                                 242\n",
       "Linguistic Isolation Pctl                            242\n",
       "Low Birth Weight                                     222\n",
       "Low Birth Weight Pctl                                222\n",
       "Housing Burden Pctl                                  157\n",
       "Housing Burden                                       157\n",
       "Unemployment Pctl                                    155\n",
       "Unemployment                                         155\n",
       "CES 3.0 \\nPercentile Range                           106\n",
       "Pop. Char. Pctl                                      106\n",
       " CES 3.0 Percentile                                  106\n",
       "CES 3.0 Score                                        106\n",
       "Pop. Char. Score                                     106\n",
       "Pop. Char.                                           106\n",
       "Education                                             96\n",
       "Education Pctl                                        96\n",
       "Poverty Pctl                                          79\n",
       "Poverty                                               79\n",
       "Traffic                                               56\n",
       "Traffic Pctl                                          56\n",
       "PM2.5 Pctl                                            19\n",
       "PM2.5                                                 19\n",
       "Drinking Water                                        18\n",
       "Drinking Water Pctl                                   18\n",
       "Pollution Burden                                       0\n",
       "Asthma                                                 0\n",
       "Pollution Burden Score                                 0\n",
       "Pollution Burden Pctl                                  0\n",
       "Cardiovascular Disease Pctl                            0\n",
       "Asthma Pctl                                            0\n",
       "Cardiovascular Disease                                 0\n",
       "Solid Waste                                            0\n",
       "Solid Waste Pctl                                       0\n",
       "Census Tract                                           0\n",
       "Imp. Water Bodies Pctl                                 0\n",
       "Diesel PM Pctl                                         0\n",
       "California County                                      0\n",
       "ZIP                                                    0\n",
       "Nearby City \\n(to help approximate location only)      0\n",
       "Longitude                                              0\n",
       "Latitude                                               0\n",
       "SB 535 Disadvantaged Community                         0\n",
       "Ozone                                                  0\n",
       "Ozone Pctl                                             0\n",
       "Diesel PM                                              0\n",
       "Pesticides                                             0\n",
       "Imp. Water Bodies                                      0\n",
       "Pesticides Pctl                                        0\n",
       "Tox. Release                                           0\n",
       "Tox. Release Pctl                                      0\n",
       "Cleanup Sites                                          0\n",
       "Cleanup Sites Pctl                                     0\n",
       "Groundwater Threats                                    0\n",
       "Total Population                                       0\n",
       "Haz. Waste                                             0\n",
       "Haz. Waste Pctl                                        0\n",
       "Groundwater Threats Pctl                               0\n",
       "dtype: int64"
      ]
     },
     "execution_count": 46,
     "metadata": {},
     "output_type": "execute_result"
    }
   ],
   "source": [
    "dfenv.isna().sum().sort_values(ascending=False)"
   ]
  },
  {
   "cell_type": "code",
   "execution_count": 49,
   "id": "295d9510-e583-4321-a764-6c15e304ae67",
   "metadata": {},
   "outputs": [
    {
     "data": {
      "text/plain": [
       "8035"
      ]
     },
     "execution_count": 49,
     "metadata": {},
     "output_type": "execute_result"
    }
   ],
   "source": [
    "# check the number of tracts in the combined df\n",
    "dfenv['Census Tract'].nunique()"
   ]
  },
  {
   "cell_type": "markdown",
   "id": "3734cd4a-41d3-4d46-acf5-57051bc4ce28",
   "metadata": {},
   "source": [
    "NOTE \n",
    "According to [United Staes Census Bureau](https://www.census.gov/geographies/reference-files/2010/geo/state-local-geo-guides-2010/california.html), California has 8,057 census tracts\n",
    "\n",
    "The Enviro dataset lists 8035\n",
    "The HPI lists 7720 for all years, 7711 for 2018"
   ]
  },
  {
   "cell_type": "code",
   "execution_count": 54,
   "id": "8640fedf-cc0c-4194-8214-5c6cae5559b4",
   "metadata": {},
   "outputs": [
    {
     "name": "stdout",
     "output_type": "stream",
     "text": [
      "Index(['Census Tract', 'Total Population', 'California County', 'ZIP',\n",
      "       'Nearby City \\n(to help approximate location only)', 'Longitude',\n",
      "       'Latitude', 'CES 3.0 Score', ' CES 3.0 Percentile',\n",
      "       'CES 3.0 \\nPercentile Range', 'SB 535 Disadvantaged Community', 'Ozone',\n",
      "       'Ozone Pctl', 'PM2.5', 'PM2.5 Pctl', 'Diesel PM', 'Diesel PM Pctl',\n",
      "       'Drinking Water', 'Drinking Water Pctl', 'Pesticides',\n",
      "       'Pesticides Pctl', 'Tox. Release', 'Tox. Release Pctl', 'Traffic',\n",
      "       'Traffic Pctl', 'Cleanup Sites', 'Cleanup Sites Pctl',\n",
      "       'Groundwater Threats', 'Groundwater Threats Pctl', 'Haz. Waste',\n",
      "       'Haz. Waste Pctl', 'Imp. Water Bodies', 'Imp. Water Bodies Pctl',\n",
      "       'Solid Waste', 'Solid Waste Pctl', 'Pollution Burden',\n",
      "       'Pollution Burden Score', 'Pollution Burden Pctl', 'Asthma',\n",
      "       'Asthma Pctl', 'Low Birth Weight', 'Low Birth Weight Pctl',\n",
      "       'Cardiovascular Disease', 'Cardiovascular Disease Pctl', 'Education',\n",
      "       'Education Pctl', 'Linguistic Isolation', 'Linguistic Isolation Pctl',\n",
      "       'Poverty', 'Poverty Pctl', 'Unemployment', 'Unemployment Pctl',\n",
      "       'Housing Burden', 'Housing Burden Pctl', 'Pop. Char. ',\n",
      "       'Pop. Char. Score', 'Pop. Char. Pctl'],\n",
      "      dtype='object')\n",
      "\n",
      "The Enviro 3.0 dataset has 57 columns\n"
     ]
    }
   ],
   "source": [
    "# extract the column names\n",
    "cols=dfenv.columns\n",
    "print(cols)\n",
    "print()\n",
    "print(f\"The Enviro 3.0 dataset has {len(cols)} columns\")"
   ]
  },
  {
   "cell_type": "markdown",
   "id": "b909f648-edad-46e2-96a1-58e493724353",
   "metadata": {},
   "source": [
    "<a id=\"ID_results\"></a>\n",
    "## 6.0 | Results"
   ]
  },
  {
   "cell_type": "markdown",
   "id": "1d7f1eb6-40b4-4a3c-92a9-7240eba00a9f",
   "metadata": {},
   "source": [
    "<a id=\"ID_disc\"></a>\n",
    "## 7.0 | Discussion "
   ]
  },
  {
   "cell_type": "markdown",
   "id": "0a3a9c9b-23ce-4a41-9a3a-f3342abb1aee",
   "metadata": {},
   "source": [
    "<a id=\"ID_conc\"></a>\n",
    "## 8.0 | Conclusion"
   ]
  },
  {
   "cell_type": "markdown",
   "id": "68d691df-55fa-467f-91dd-7fc6ab7ce330",
   "metadata": {},
   "source": [
    "<a id=\"ID_biblio\"></a>\n",
    "## Bibliography"
   ]
  },
  {
   "cell_type": "markdown",
   "id": "1b1f5e3e-1a20-43c3-9ece-f3193b987a0a",
   "metadata": {},
   "source": [
    "<a id=\"ID_append\"></a>\n",
    "## Appendix"
   ]
  },
  {
   "cell_type": "code",
   "execution_count": null,
   "id": "211cd05f-5571-44d6-aaed-1f21de8404c5",
   "metadata": {},
   "outputs": [],
   "source": []
  }
 ],
 "metadata": {
  "kernelspec": {
   "display_name": "Python 3 (ipykernel)",
   "language": "python",
   "name": "python3"
  },
  "language_info": {
   "codemirror_mode": {
    "name": "ipython",
    "version": 3
   },
   "file_extension": ".py",
   "mimetype": "text/x-python",
   "name": "python",
   "nbconvert_exporter": "python",
   "pygments_lexer": "ipython3",
   "version": "3.9.6"
  },
  "toc-autonumbering": false
 },
 "nbformat": 4,
 "nbformat_minor": 5
}
