{
 "cells": [
  {
   "cell_type": "markdown",
   "id": "9086c790-a752-419e-896b-d2a0d70fc26d",
   "metadata": {},
   "source": [
    "## About this document\n",
    "This document contains the analysis and report for the Assessment of CASA0006-Data Science for Spatial Systems"
   ]
  },
  {
   "cell_type": "markdown",
   "id": "2163adc3-8dd5-4772-bc9c-a4c5937b2f5c",
   "metadata": {},
   "source": [
    "Student ID: 21203086\n",
    "Word count: XXX"
   ]
  },
  {
   "cell_type": "markdown",
   "id": "4fd8c124-5858-43d2-b9cc-40fc76c2f70a",
   "metadata": {},
   "source": [
    "--------------------------------------------------------------------------------------------------------------------------------"
   ]
  },
  {
   "cell_type": "markdown",
   "id": "d03ccec6-2deb-4764-82a6-4a0a36a77f8a",
   "metadata": {},
   "source": [
    "# TITLE XXXXXX"
   ]
  },
  {
   "cell_type": "markdown",
   "id": "547ca654-e59e-4692-b856-80dea2b3e742",
   "metadata": {},
   "source": [
    "<a id=\"ID_intr\"></a>\n",
    "| [1.0 Introduction](#ID_intro) | [2.0 Literature review](#ID_lit) | [3.0 Research Question](#ID_RQ) | [4.0 Presentation of Data](#ID_data) | [5.0 Methodology](#ID_methods) | [6.0 Results](#ID_results) | [7.0 Discussion](#ID_disc) | [8.0 Conclusion](#ID_concl) | [Bibliography](#ID_biblio) | [Appendix](#ID_append) |"
   ]
  },
  {
   "cell_type": "markdown",
   "id": "fb0f494e-5eb0-45f8-b27d-c1f775a301ba",
   "metadata": {},
   "source": [
    "<a id=\"ID_intro\"></a>\n",
    "## 1.0 | Introduction "
   ]
  },
  {
   "cell_type": "markdown",
   "id": "7bfc41cb-a586-48b7-aa26-caa71adb7853",
   "metadata": {},
   "source": [
    "This paper studies .... \n",
    "quick summary\n",
    "text text\n",
    "\n",
    "According to the Understanding Inequalities project ''the housing market has a key role in \"sorting\" poorer households into areas with the worst pollution, schools, crime and employ-ment. ''(Housing | Understanding Inequalities, 2022). This study will therefore investigate if there is a relationship between a variety of indicators for environmental, health and socioeco-nomic features that compose a census tract and house prices in the same area. The case study chosen is California and the baseline assumption is that pollution, unemployment, and poor health statistics will be reflected in the overall house price trend. "
   ]
  },
  {
   "cell_type": "markdown",
   "id": "c537de00-a015-4ded-bc2b-406cc6cb25fc",
   "metadata": {},
   "source": [
    "<a id=\"ID_lit\"></a>\n",
    "## 2.0 | Literature Review"
   ]
  },
  {
   "cell_type": "markdown",
   "id": "95d729fc-d05a-43b1-b26f-c5464fbd07a0",
   "metadata": {},
   "source": [
    "Text text text\n"
   ]
  },
  {
   "cell_type": "markdown",
   "id": "b800f037-4e81-46ef-a218-467aa4ae82e7",
   "metadata": {},
   "source": [
    "<a id=\"ID_RQ\"></a>\n",
    "## 3.0 | Research Question"
   ]
  },
  {
   "cell_type": "markdown",
   "id": "3f8ae78a-f983-4c63-bdc2-a0cebe6b46e0",
   "metadata": {},
   "source": [
    "R.Q.: Can house prices be predicted from data on environmental, health, and socioeconomic information of a census tract?\n",
    "\n",
    "    RQ1 | text \n",
    "    RQ2 | text?"
   ]
  },
  {
   "cell_type": "markdown",
   "id": "1d1bbb7b-7c19-48a8-b7c9-aecd8680aeb7",
   "metadata": {},
   "source": [
    "<a id=\"ID_data\"></a>\n",
    "## 4.0 | Presentation of Data"
   ]
  },
  {
   "cell_type": "markdown",
   "id": "8fcabc53-7956-4282-b115-247afa7aea74",
   "metadata": {},
   "source": [
    "The data used for this analysis were obtained from the following sources:\n",
    "* [CalEnviroScreen 3.0 Results](https://data.ca.gov/dataset/calenviroscreen-3-0-results/resource/89b3f4e9-0bf8-4690-8c6f-715a717f3fae), downloaded 04 April 2021:\n",
    "\n",
    "Description of DATA HERE\n",
    "\n",
    "* [House Price Index Census Tracts](https://www.fhfa.gov/DataTools/Downloads/Pages/House-Price-Index-Datasets.aspx), downloaded 04 April 2021:\n",
    "\n",
    "Description of DATA HERE\n",
    "\n",
    "For ease of access the data has been saved in this [GitHub repository](https://github.com/DaphneBdn/dsss_repo) "
   ]
  },
  {
   "cell_type": "markdown",
   "id": "a83fb95c-5df1-4c53-b08b-1dc5ed70eb00",
   "metadata": {},
   "source": [
    "<a id=\"ID_methods\"></a>\n",
    "## 5.0 | Methodology"
   ]
  },
  {
   "cell_type": "markdown",
   "id": "71904047-0728-4151-a7bf-25997326ad23",
   "metadata": {},
   "source": [
    "Outline of methodology....text text text"
   ]
  },
  {
   "cell_type": "markdown",
   "id": "ba636ece-fb67-4eec-9e02-7078e0559f10",
   "metadata": {},
   "source": [
    "5.1 Libraries\n",
    "\n",
    "Loading the necessary libraries"
   ]
  },
  {
   "cell_type": "code",
   "execution_count": 3,
   "id": "1067c74c-1a82-48a9-9f40-b7bfb419721d",
   "metadata": {},
   "outputs": [],
   "source": [
    "# data manipulation and processing\n",
    "#import os\n",
    "import math\n",
    "import numpy as np\n",
    "import pandas as pd\n",
    "\n",
    "# analysis\n",
    "\n",
    "# Packages for visualisation\n",
    "import matplotlib.cm as cm\n",
    "import matplotlib.pyplot as plt\n",
    "import seaborn as sns\n",
    "\n",
    "# reproducability settings\n",
    "random_state = 42 \n",
    "np.random.seed(random_state)\n"
   ]
  },
  {
   "cell_type": "markdown",
   "id": "c6d8c909-a99f-4559-8927-09b04a2ffea6",
   "metadata": {},
   "source": [
    "5.1 Data Loading "
   ]
  },
  {
   "cell_type": "code",
   "execution_count": null,
   "id": "2cab63fe-0fa8-4b60-ab7c-728d95070277",
   "metadata": {},
   "outputs": [],
   "source": [
    "# Load in the House Price Index data \n",
    "df = pd.read_csv('https://github.com/DaphneBdn/fsds_assessment3/blob/main/Data/raw/listings.csv.gz?raw=true', compression='gzip')\n",
    "df.head(3)"
   ]
  },
  {
   "cell_type": "markdown",
   "id": "b909f648-edad-46e2-96a1-58e493724353",
   "metadata": {},
   "source": [
    "<a id=\"ID_results\"></a>\n",
    "## 6.0 | Results"
   ]
  },
  {
   "cell_type": "markdown",
   "id": "1d7f1eb6-40b4-4a3c-92a9-7240eba00a9f",
   "metadata": {},
   "source": [
    "<a id=\"ID_disc\"></a>\n",
    "## 7.0 | Discussion "
   ]
  },
  {
   "cell_type": "markdown",
   "id": "0a3a9c9b-23ce-4a41-9a3a-f3342abb1aee",
   "metadata": {},
   "source": [
    "<a id=\"ID_conc\"></a>\n",
    "## 8.0 | Conclusion"
   ]
  },
  {
   "cell_type": "markdown",
   "id": "68d691df-55fa-467f-91dd-7fc6ab7ce330",
   "metadata": {},
   "source": [
    "<a id=\"ID_biblio\"></a>\n",
    "## Bibliography"
   ]
  },
  {
   "cell_type": "markdown",
   "id": "1b1f5e3e-1a20-43c3-9ece-f3193b987a0a",
   "metadata": {},
   "source": [
    "<a id=\"ID_append\"></a>\n",
    "## Appendix"
   ]
  },
  {
   "cell_type": "code",
   "execution_count": null,
   "id": "211cd05f-5571-44d6-aaed-1f21de8404c5",
   "metadata": {},
   "outputs": [],
   "source": []
  }
 ],
 "metadata": {
  "kernelspec": {
   "display_name": "Python 3 (ipykernel)",
   "language": "python",
   "name": "python3"
  },
  "language_info": {
   "codemirror_mode": {
    "name": "ipython",
    "version": 3
   },
   "file_extension": ".py",
   "mimetype": "text/x-python",
   "name": "python",
   "nbconvert_exporter": "python",
   "pygments_lexer": "ipython3",
   "version": "3.9.6"
  },
  "toc-autonumbering": false
 },
 "nbformat": 4,
 "nbformat_minor": 5
}
