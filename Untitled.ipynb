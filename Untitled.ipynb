{
 "cells": [
  {
   "cell_type": "markdown",
   "id": "2163adc3-8dd5-4772-bc9c-a4c5937b2f5c",
   "metadata": {},
   "source": [
    "# CASA0006 - Data Science for Spatial Systems\n",
    "\n",
    "## Assessment \n",
    "\n",
    "Student ID: 21203086\n",
    "\n",
    "Word count: XXX"
   ]
  },
  {
   "cell_type": "markdown",
   "id": "fb0f494e-5eb0-45f8-b27d-c1f775a301ba",
   "metadata": {},
   "source": [
    "# Introduction "
   ]
  },
  {
   "cell_type": "markdown",
   "id": "c537de00-a015-4ded-bc2b-406cc6cb25fc",
   "metadata": {},
   "source": [
    "# Literature Review"
   ]
  },
  {
   "cell_type": "markdown",
   "id": "b800f037-4e81-46ef-a218-467aa4ae82e7",
   "metadata": {},
   "source": [
    "# Research Question"
   ]
  },
  {
   "cell_type": "markdown",
   "id": "1d1bbb7b-7c19-48a8-b7c9-aecd8680aeb7",
   "metadata": {},
   "source": [
    "# Presentation of Data"
   ]
  },
  {
   "cell_type": "markdown",
   "id": "a83fb95c-5df1-4c53-b08b-1dc5ed70eb00",
   "metadata": {},
   "source": [
    "# Methodology"
   ]
  },
  {
   "cell_type": "markdown",
   "id": "b909f648-edad-46e2-96a1-58e493724353",
   "metadata": {},
   "source": [
    "# Results"
   ]
  },
  {
   "cell_type": "markdown",
   "id": "1d7f1eb6-40b4-4a3c-92a9-7240eba00a9f",
   "metadata": {},
   "source": [
    "# Discussion "
   ]
  },
  {
   "cell_type": "markdown",
   "id": "0a3a9c9b-23ce-4a41-9a3a-f3342abb1aee",
   "metadata": {},
   "source": [
    "# Conclusion"
   ]
  },
  {
   "cell_type": "markdown",
   "id": "68d691df-55fa-467f-91dd-7fc6ab7ce330",
   "metadata": {},
   "source": [
    "# Bibliography"
   ]
  },
  {
   "cell_type": "markdown",
   "id": "1b1f5e3e-1a20-43c3-9ece-f3193b987a0a",
   "metadata": {},
   "source": [
    "# Appendix"
   ]
  }
 ],
 "metadata": {
  "kernelspec": {
   "display_name": "Python 3 (ipykernel)",
   "language": "python",
   "name": "python3"
  },
  "language_info": {
   "codemirror_mode": {
    "name": "ipython",
    "version": 3
   },
   "file_extension": ".py",
   "mimetype": "text/x-python",
   "name": "python",
   "nbconvert_exporter": "python",
   "pygments_lexer": "ipython3",
   "version": "3.9.6"
  }
 },
 "nbformat": 4,
 "nbformat_minor": 5
}
